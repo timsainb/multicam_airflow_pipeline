{
 "cells": [
  {
   "cell_type": "code",
   "execution_count": 1,
   "id": "10a96c4e",
   "metadata": {},
   "outputs": [
    {
     "name": "stdout",
     "output_type": "stream",
     "text": [
      "Python interpreter binary location: /n/groups/datta/tim_sainburg/conda_envs/peromoseq/bin/python3\n"
     ]
    }
   ],
   "source": [
    "import sys\n",
    "import pandas as pd\n",
    "from pathlib import Path\n",
    "import numpy as np\n",
    "import matplotlib.pyplot as plt\n",
    "import sys\n",
    "import glob\n",
    "import numpy as np\n",
    "import joblib, os, h5py\n",
    "import matplotlib.pyplot as plt\n",
    "from tqdm.auto import tqdm\n",
    "import pandas as pd\n",
    "import shutil \n",
    "\n",
    "print(\"Python interpreter binary location:\", sys.executable)"
   ]
  },
  {
   "cell_type": "markdown",
   "id": "4331807d",
   "metadata": {},
   "source": [
    "### Load google drive recording information"
   ]
  },
  {
   "cell_type": "code",
   "execution_count": 2,
   "id": "9cbf21db",
   "metadata": {},
   "outputs": [],
   "source": [
    "import requests"
   ]
  },
  {
   "cell_type": "code",
   "execution_count": 3,
   "id": "ee1b85cc",
   "metadata": {},
   "outputs": [],
   "source": [
    "from datetime import datetime, timedelta\n",
    "#import requests\n",
    "from io import BytesIO"
   ]
  },
  {
   "cell_type": "code",
   "execution_count": 4,
   "id": "77f4662a",
   "metadata": {},
   "outputs": [],
   "source": [
    "spreadsheet_url = 'https://docs.google.com/spreadsheet/ccc?key=14HIqUaSl_n-91hpAvmACY_iVY9nLKdlA6qklhxfZon0&output=csv&gid=0'"
   ]
  },
  {
   "cell_type": "code",
   "execution_count": 5,
   "id": "c22adeb2",
   "metadata": {},
   "outputs": [],
   "source": [
    "def get_datetime(row):\n",
    "    dt = datetime.strptime(f\"{row['Date']}_{row['Time']}\", \"%m-%d-%y_%H:%M\")\n",
    "    if pd.isnull(row.Seconds) == False:\n",
    "        dt = dt + timedelta(seconds=row.Seconds)\n",
    "    return dt"
   ]
  },
  {
   "cell_type": "code",
   "execution_count": 6,
   "id": "cd288298",
   "metadata": {},
   "outputs": [],
   "source": [
    "response = requests.get(spreadsheet_url)\n",
    "individual_df = pd.read_csv(BytesIO(response.content))\n",
    "individual_df = individual_df[individual_df.Identifiers.isnull() == False]\n",
    "individual_df[\"Identifiers\"] = individual_df[\"Identifiers\"].astype(int)\n",
    "individual_df[\"age\"] = individual_df[\"Age (days)\"].astype(int)\n",
    "# get datetime for each row\n",
    "individual_df[\"datetime\"] = [\n",
    "    get_datetime(row)\n",
    "    for idx, row in individual_df.iterrows()\n",
    "]\n",
    "individual_df = individual_df.reset_index(drop=True)"
   ]
  },
  {
   "cell_type": "code",
   "execution_count": 7,
   "id": "19f00ed0",
   "metadata": {},
   "outputs": [
    {
     "name": "stdout",
     "output_type": "stream",
     "text": [
      "N individuals: 309\n"
     ]
    }
   ],
   "source": [
    "print(f'N individuals: {len(individual_df)}')"
   ]
  },
  {
   "cell_type": "code",
   "execution_count": 8,
   "id": "23646cdd",
   "metadata": {},
   "outputs": [
    {
     "data": {
      "text/html": [
       "<div>\n",
       "<style scoped>\n",
       "    .dataframe tbody tr th:only-of-type {\n",
       "        vertical-align: middle;\n",
       "    }\n",
       "\n",
       "    .dataframe tbody tr th {\n",
       "        vertical-align: top;\n",
       "    }\n",
       "\n",
       "    .dataframe thead th {\n",
       "        text-align: right;\n",
       "    }\n",
       "</style>\n",
       "<table border=\"1\" class=\"dataframe\">\n",
       "  <thead>\n",
       "    <tr style=\"text-align: right;\">\n",
       "      <th></th>\n",
       "      <th>rid</th>\n",
       "      <th>Date</th>\n",
       "      <th>Time</th>\n",
       "      <th>Seconds</th>\n",
       "      <th>Identifiers</th>\n",
       "      <th>Weight (g)</th>\n",
       "      <th>Strain</th>\n",
       "      <th>Sex</th>\n",
       "      <th>DOB</th>\n",
       "      <th>Cage occupants</th>\n",
       "      <th>Experimenter</th>\n",
       "      <th>Rig</th>\n",
       "      <th>Trial</th>\n",
       "      <th>Age (days)</th>\n",
       "      <th>Notes</th>\n",
       "      <th>calibration_id</th>\n",
       "      <th>Data storage location</th>\n",
       "      <th>age</th>\n",
       "      <th>datetime</th>\n",
       "    </tr>\n",
       "  </thead>\n",
       "  <tbody>\n",
       "    <tr>\n",
       "      <th>0</th>\n",
       "      <td>23-09-27-14-46-49-522610</td>\n",
       "      <td>09-27-23</td>\n",
       "      <td>14:46</td>\n",
       "      <td>NaN</td>\n",
       "      <td>38209</td>\n",
       "      <td>16.0</td>\n",
       "      <td>NUB</td>\n",
       "      <td>M</td>\n",
       "      <td>7-21-23</td>\n",
       "      <td>38209</td>\n",
       "      <td>TS</td>\n",
       "      <td>1.0</td>\n",
       "      <td>1.0</td>\n",
       "      <td>68.0</td>\n",
       "      <td>using bad scale</td>\n",
       "      <td>23-09-28-17-34-02-003662</td>\n",
       "      <td>NaN</td>\n",
       "      <td>68</td>\n",
       "      <td>2023-09-27 14:46:00</td>\n",
       "    </tr>\n",
       "    <tr>\n",
       "      <th>1</th>\n",
       "      <td>23-09-27-16-50-11-334366</td>\n",
       "      <td>09-27-23</td>\n",
       "      <td>16:50</td>\n",
       "      <td>NaN</td>\n",
       "      <td>38068</td>\n",
       "      <td>15.0</td>\n",
       "      <td>NUB</td>\n",
       "      <td>F</td>\n",
       "      <td>7-3-23</td>\n",
       "      <td>38068, 38208</td>\n",
       "      <td>TS</td>\n",
       "      <td>1.0</td>\n",
       "      <td>1.0</td>\n",
       "      <td>86.0</td>\n",
       "      <td>using bad scale</td>\n",
       "      <td>23-09-28-17-34-02-003662</td>\n",
       "      <td>NaN</td>\n",
       "      <td>86</td>\n",
       "      <td>2023-09-27 16:50:00</td>\n",
       "    </tr>\n",
       "    <tr>\n",
       "      <th>2</th>\n",
       "      <td>23-09-27-16-13-10-344746</td>\n",
       "      <td>09-27-23</td>\n",
       "      <td>16:13</td>\n",
       "      <td>NaN</td>\n",
       "      <td>38208</td>\n",
       "      <td>17.0</td>\n",
       "      <td>NUB</td>\n",
       "      <td>F</td>\n",
       "      <td>7-21-23</td>\n",
       "      <td>38068, 38208</td>\n",
       "      <td>TS</td>\n",
       "      <td>1.0</td>\n",
       "      <td>1.0</td>\n",
       "      <td>68.0</td>\n",
       "      <td>using bad scale</td>\n",
       "      <td>23-09-28-17-34-02-003662</td>\n",
       "      <td>NaN</td>\n",
       "      <td>68</td>\n",
       "      <td>2023-09-27 16:13:00</td>\n",
       "    </tr>\n",
       "  </tbody>\n",
       "</table>\n",
       "</div>"
      ],
      "text/plain": [
       "                        rid      Date   Time  Seconds  Identifiers  \\\n",
       "0  23-09-27-14-46-49-522610  09-27-23  14:46      NaN        38209   \n",
       "1  23-09-27-16-50-11-334366  09-27-23  16:50      NaN        38068   \n",
       "2  23-09-27-16-13-10-344746  09-27-23  16:13      NaN        38208   \n",
       "\n",
       "   Weight (g) Strain Sex      DOB Cage occupants Experimenter  Rig  Trial  \\\n",
       "0        16.0    NUB   M  7-21-23          38209           TS  1.0    1.0   \n",
       "1        15.0    NUB   F   7-3-23   38068, 38208           TS  1.0    1.0   \n",
       "2        17.0    NUB   F  7-21-23   38068, 38208           TS  1.0    1.0   \n",
       "\n",
       "   Age (days)            Notes            calibration_id  \\\n",
       "0        68.0  using bad scale  23-09-28-17-34-02-003662   \n",
       "1        86.0  using bad scale  23-09-28-17-34-02-003662   \n",
       "2        68.0  using bad scale  23-09-28-17-34-02-003662   \n",
       "\n",
       "   Data storage location  age            datetime  \n",
       "0                    NaN   68 2023-09-27 14:46:00  \n",
       "1                    NaN   86 2023-09-27 16:50:00  \n",
       "2                    NaN   68 2023-09-27 16:13:00  "
      ]
     },
     "execution_count": 8,
     "metadata": {},
     "output_type": "execute_result"
    }
   ],
   "source": [
    "individual_df[:3]"
   ]
  },
  {
   "cell_type": "code",
   "execution_count": 11,
   "id": "dfe8d4ca",
   "metadata": {},
   "outputs": [],
   "source": [
    "recording_row = individual_df[individual_df.rid == '23-10-26-15-31-07-651606'].iloc[0]"
   ]
  },
  {
   "cell_type": "code",
   "execution_count": 12,
   "id": "44b5335d",
   "metadata": {},
   "outputs": [],
   "source": [
    "#recording_row = individual_df.iloc[0]\n",
    "#recording_row = individual_df.iloc[-1]"
   ]
  },
  {
   "cell_type": "code",
   "execution_count": 13,
   "id": "e7faf125",
   "metadata": {},
   "outputs": [
    {
     "data": {
      "text/plain": [
       "rid                        23-10-26-15-31-07-651606\n",
       "Date                                       10-26-23\n",
       "Time                                          15:31\n",
       "Seconds                                         NaN\n",
       "Identifiers                                   38201\n",
       "Weight (g)                                     17.6\n",
       "Strain                                           AM\n",
       "Sex                                               F\n",
       "DOB                                         7/18/23\n",
       "Cage occupants           38196, 38197, 38200, 38201\n",
       "Experimenter                                     TS\n",
       "Rig                                             1.0\n",
       "Trial                                           1.0\n",
       "Age (days)                                    100.0\n",
       "Notes                                           NaN\n",
       "calibration_id             23-10-26-13-40-15-855341\n",
       "Data storage location                           NaN\n",
       "age                                             100\n",
       "datetime                        2023-10-26 15:31:00\n",
       "Name: 49, dtype: object"
      ]
     },
     "execution_count": 13,
     "metadata": {},
     "output_type": "execute_result"
    }
   ],
   "source": [
    "recording_row"
   ]
  },
  {
   "cell_type": "code",
   "execution_count": 262,
   "id": "47271abf",
   "metadata": {},
   "outputs": [],
   "source": [
    "reformatted_output_directory = Path('/n/groups/datta/kpts_pipeline/pero_240925/results')"
   ]
  },
  {
   "cell_type": "code",
   "execution_count": 15,
   "id": "2d596423",
   "metadata": {},
   "outputs": [],
   "source": [
    "predictions = list((reformatted_output_directory / \"triangulation\" / recording_row.rid).glob('predictions_3d*.mmap'))[0]"
   ]
  },
  {
   "cell_type": "code",
   "execution_count": 135,
   "id": "cc4b6c7f",
   "metadata": {},
   "outputs": [],
   "source": [
    "#prediction_file = \"/n/groups/datta/tim_sainburg/projects/23-09-29-peromoseq/data/keypoints/240508_mmpose_predictions/LL/sessions/24-08-16-14-45-39-561890/3D_240927.h5\"\n",
    "prediction_file = \"/n/groups/datta/tim_sainburg/projects/23-09-29-peromoseq/data/keypoints/240508_mmpose_predictions/am/sessions/38201/23-10-26-15-31-07-651606/3D_240927.h5\""
   ]
  },
  {
   "cell_type": "code",
   "execution_count": 136,
   "id": "153cb55b",
   "metadata": {},
   "outputs": [
    {
     "name": "stdout",
     "output_type": "stream",
     "text": [
      "['camera_calibration_order', 'confidences_2D', 'keypoint_names', 'positions_2D', 'positions_2D_reprojections', 'positions_3D', 'reprojection_errors', 'skeleton']\n"
     ]
    }
   ],
   "source": [
    "import h5py\n",
    "\n",
    "with h5py.File(prediction_file, 'r') as file:\n",
    "    print(list(file.keys()))\n",
    "    predictions_3d = np.array(file[\"positions_3D\"])"
   ]
  },
  {
   "cell_type": "code",
   "execution_count": 137,
   "id": "fd128d11",
   "metadata": {},
   "outputs": [],
   "source": [
    "def load_memmap_from_filename(filename):\n",
    "    # Extract the metadata from the filename\n",
    "    parts = filename.name.rsplit(\".\", 4)  # Split the filename into parts\n",
    "    dtype_str = parts[-3]  # Get the dtype part of the filename\n",
    "    shape_str = parts[-2]  # Get the shape part of the filename\n",
    "    shape = tuple(map(int, shape_str.split(\"x\")))  # Convert shape string to a tuple of integers\n",
    "    # Load the array using numpy memmap\n",
    "    array = np.memmap(filename, dtype=dtype_str, mode=\"r\", shape=shape)\n",
    "    return array\n"
   ]
  },
  {
   "cell_type": "code",
   "execution_count": 138,
   "id": "50e743cb",
   "metadata": {},
   "outputs": [],
   "source": [
    "#predictions_3d = np.array(load_memmap_from_filename(predictions))"
   ]
  },
  {
   "cell_type": "code",
   "execution_count": 139,
   "id": "2faf7b7c",
   "metadata": {},
   "outputs": [
    {
     "data": {
      "text/plain": [
       "(215906, 25, 3)"
      ]
     },
     "execution_count": 139,
     "metadata": {},
     "output_type": "execute_result"
    }
   ],
   "source": [
    "predictions_3d.shape"
   ]
  },
  {
   "cell_type": "code",
   "execution_count": 140,
   "id": "3dae27cd",
   "metadata": {},
   "outputs": [
    {
     "name": "stdout",
     "output_type": "stream",
     "text": [
      "2D_predictions\t egocentric_alignment  size_normalization  triangulation\r\n",
      "arena_alignment  gimbal\t\t       subject_df.pickle\r\n"
     ]
    }
   ],
   "source": [
    "!ls {reformatted_output_directory}"
   ]
  },
  {
   "cell_type": "code",
   "execution_count": 141,
   "id": "9e504061",
   "metadata": {},
   "outputs": [],
   "source": [
    "calibration_folder = list(Path('/n/groups/datta/tim_sainburg/projects/23-09-29-peromoseq/data/jarvis/calibrations').glob(f'**/{recording_row.calibration_id}'))[0]"
   ]
  },
  {
   "cell_type": "code",
   "execution_count": 142,
   "id": "5a944b44",
   "metadata": {},
   "outputs": [
    {
     "name": "stdout",
     "output_type": "stream",
     "text": [
      "BackLeft.yaml\tBottom.yaml\tFrontRight.yaml\r\n",
      "BackRight.yaml\tFrontLeft.yaml\tTop.yaml\r\n"
     ]
    }
   ],
   "source": [
    "!ls {calibration_folder/'CalibrationParameters'}"
   ]
  },
  {
   "cell_type": "code",
   "execution_count": 143,
   "id": "ab3559d2",
   "metadata": {},
   "outputs": [],
   "source": [
    "import multicam_calibration as mcc"
   ]
  },
  {
   "cell_type": "code",
   "execution_count": 144,
   "id": "d50f42ac",
   "metadata": {},
   "outputs": [],
   "source": [
    "# load calibration\n",
    "all_extrinsics, all_intrinsics, camera_names = mcc.load_calibration(\n",
    "    (calibration_folder/\"CalibrationParameters\").as_posix(), \"jarvis\"\n",
    ")"
   ]
  },
  {
   "cell_type": "code",
   "execution_count": 145,
   "id": "44c5fe35",
   "metadata": {},
   "outputs": [
    {
     "data": {
      "text/plain": [
       "True"
      ]
     },
     "execution_count": 145,
     "metadata": {},
     "output_type": "execute_result"
    }
   ],
   "source": [
    "np.any(np.isnan(predictions_3d))"
   ]
  },
  {
   "cell_type": "code",
   "execution_count": 146,
   "id": "818dde38",
   "metadata": {},
   "outputs": [],
   "source": [
    "def nan_to_preceding(arr):\n",
    "    # Make a copy of the array to avoid modifying the original array\n",
    "    result = arr.copy()\n",
    "\n",
    "    # Iterate over each element in the first dimension\n",
    "    for i in range(1, arr.shape[0]):\n",
    "        mask = np.isnan(result[i])  # Identify the NaN values\n",
    "        result[i][mask] = result[i - 1][mask]  # Replace NaNs with preceding values\n",
    "\n",
    "    return result"
   ]
  },
  {
   "cell_type": "code",
   "execution_count": 147,
   "id": "4581b05c",
   "metadata": {},
   "outputs": [],
   "source": [
    "predictions_3d = nan_to_preceding(predictions_3d)"
   ]
  },
  {
   "cell_type": "code",
   "execution_count": 148,
   "id": "419dd664",
   "metadata": {},
   "outputs": [
    {
     "data": {
      "text/plain": [
       "-986.7192744041555"
      ]
     },
     "execution_count": 148,
     "metadata": {},
     "output_type": "execute_result"
    }
   ],
   "source": [
    "np.min(predictions_3d)"
   ]
  },
  {
   "cell_type": "code",
   "execution_count": 149,
   "id": "9f400cb7",
   "metadata": {},
   "outputs": [],
   "source": [
    "positions = predictions_3d"
   ]
  },
  {
   "cell_type": "code",
   "execution_count": 150,
   "id": "2e3c52a5",
   "metadata": {},
   "outputs": [],
   "source": [
    "# get reprojections\n",
    "positions_2D_reprojections = (\n",
    "    np.zeros((positions.shape[0], len(camera_names), positions.shape[1], 2)) * np.nan\n",
    ")\n",
    "for cam in range(len(camera_names)):\n",
    "    extrinsics = all_extrinsics[cam]\n",
    "    camera_matrix, dist_coefs = all_intrinsics[cam]\n",
    "    positions_2D_reprojections[:, cam, :, :] = mcc.project_points(\n",
    "        positions,\n",
    "        extrinsics=extrinsics,\n",
    "        camera_matrix=camera_matrix,\n",
    "        dist_coefs=dist_coefs,\n",
    "    )"
   ]
  },
  {
   "cell_type": "code",
   "execution_count": 151,
   "id": "81c49168",
   "metadata": {},
   "outputs": [
    {
     "data": {
      "text/plain": [
       "(215906, 6, 25, 2)"
      ]
     },
     "execution_count": 151,
     "metadata": {},
     "output_type": "execute_result"
    }
   ],
   "source": [
    "positions_2D_reprojections.shape"
   ]
  },
  {
   "cell_type": "code",
   "execution_count": 152,
   "id": "23fc1af2",
   "metadata": {},
   "outputs": [
    {
     "data": {
      "text/plain": [
       "PosixPath('/n/groups/datta/tim_sainburg/datasets/peromoseq/remux/baseline/am/sessions/38201/23-10-26-15-31-07-651606')"
      ]
     },
     "execution_count": 152,
     "metadata": {},
     "output_type": "execute_result"
    }
   ],
   "source": [
    "video_folder = list(Path(\"/n/groups/datta/tim_sainburg/datasets/peromoseq/remux/baseline/\").glob(f\"**/{recording_row.rid}\"))[0]\n",
    "video_folder"
   ]
  },
  {
   "cell_type": "code",
   "execution_count": 153,
   "id": "e13f8ea4",
   "metadata": {},
   "outputs": [],
   "source": [
    "recording_videos = list(video_folder.glob('*.mp4'))"
   ]
  },
  {
   "cell_type": "code",
   "execution_count": 154,
   "id": "c495cdb9",
   "metadata": {},
   "outputs": [
    {
     "data": {
      "text/plain": [
       "[PosixPath('/n/groups/datta/tim_sainburg/datasets/peromoseq/remux/baseline/am/sessions/38201/23-10-26-15-31-07-651606/BackLeft.40362566.100813.mp4'),\n",
       " PosixPath('/n/groups/datta/tim_sainburg/datasets/peromoseq/remux/baseline/am/sessions/38201/23-10-26-15-31-07-651606/BackLeft.40362566.108014.mp4'),\n",
       " PosixPath('/n/groups/datta/tim_sainburg/datasets/peromoseq/remux/baseline/am/sessions/38201/23-10-26-15-31-07-651606/BackLeft.40362566.115215.mp4'),\n",
       " PosixPath('/n/groups/datta/tim_sainburg/datasets/peromoseq/remux/baseline/am/sessions/38201/23-10-26-15-31-07-651606/BackLeft.40362566.122416.mp4'),\n",
       " PosixPath('/n/groups/datta/tim_sainburg/datasets/peromoseq/remux/baseline/am/sessions/38201/23-10-26-15-31-07-651606/BackLeft.40362566.129617.mp4'),\n",
       " PosixPath('/n/groups/datta/tim_sainburg/datasets/peromoseq/remux/baseline/am/sessions/38201/23-10-26-15-31-07-651606/BackLeft.40362566.136818.mp4'),\n",
       " PosixPath('/n/groups/datta/tim_sainburg/datasets/peromoseq/remux/baseline/am/sessions/38201/23-10-26-15-31-07-651606/BackLeft.40362566.14401.mp4'),\n",
       " PosixPath('/n/groups/datta/tim_sainburg/datasets/peromoseq/remux/baseline/am/sessions/38201/23-10-26-15-31-07-651606/BackLeft.40362566.144019.mp4'),\n",
       " PosixPath('/n/groups/datta/tim_sainburg/datasets/peromoseq/remux/baseline/am/sessions/38201/23-10-26-15-31-07-651606/BackLeft.40362566.151220.mp4'),\n",
       " PosixPath('/n/groups/datta/tim_sainburg/datasets/peromoseq/remux/baseline/am/sessions/38201/23-10-26-15-31-07-651606/BackLeft.40362566.158421.mp4'),\n",
       " PosixPath('/n/groups/datta/tim_sainburg/datasets/peromoseq/remux/baseline/am/sessions/38201/23-10-26-15-31-07-651606/BackLeft.40362566.165622.mp4'),\n",
       " PosixPath('/n/groups/datta/tim_sainburg/datasets/peromoseq/remux/baseline/am/sessions/38201/23-10-26-15-31-07-651606/BackLeft.40362566.172823.mp4'),\n",
       " PosixPath('/n/groups/datta/tim_sainburg/datasets/peromoseq/remux/baseline/am/sessions/38201/23-10-26-15-31-07-651606/BackLeft.40362566.180024.mp4'),\n",
       " PosixPath('/n/groups/datta/tim_sainburg/datasets/peromoseq/remux/baseline/am/sessions/38201/23-10-26-15-31-07-651606/BackLeft.40362566.187225.mp4'),\n",
       " PosixPath('/n/groups/datta/tim_sainburg/datasets/peromoseq/remux/baseline/am/sessions/38201/23-10-26-15-31-07-651606/BackLeft.40362566.194426.mp4'),\n",
       " PosixPath('/n/groups/datta/tim_sainburg/datasets/peromoseq/remux/baseline/am/sessions/38201/23-10-26-15-31-07-651606/BackLeft.40362566.201627.mp4'),\n",
       " PosixPath('/n/groups/datta/tim_sainburg/datasets/peromoseq/remux/baseline/am/sessions/38201/23-10-26-15-31-07-651606/BackLeft.40362566.208828.mp4'),\n",
       " PosixPath('/n/groups/datta/tim_sainburg/datasets/peromoseq/remux/baseline/am/sessions/38201/23-10-26-15-31-07-651606/BackLeft.40362566.21602.mp4'),\n",
       " PosixPath('/n/groups/datta/tim_sainburg/datasets/peromoseq/remux/baseline/am/sessions/38201/23-10-26-15-31-07-651606/BackLeft.40362566.28803.mp4'),\n",
       " PosixPath('/n/groups/datta/tim_sainburg/datasets/peromoseq/remux/baseline/am/sessions/38201/23-10-26-15-31-07-651606/BackLeft.40362566.36004.mp4'),\n",
       " PosixPath('/n/groups/datta/tim_sainburg/datasets/peromoseq/remux/baseline/am/sessions/38201/23-10-26-15-31-07-651606/BackLeft.40362566.43205.mp4'),\n",
       " PosixPath('/n/groups/datta/tim_sainburg/datasets/peromoseq/remux/baseline/am/sessions/38201/23-10-26-15-31-07-651606/BackLeft.40362566.50406.mp4'),\n",
       " PosixPath('/n/groups/datta/tim_sainburg/datasets/peromoseq/remux/baseline/am/sessions/38201/23-10-26-15-31-07-651606/BackLeft.40362566.57607.mp4'),\n",
       " PosixPath('/n/groups/datta/tim_sainburg/datasets/peromoseq/remux/baseline/am/sessions/38201/23-10-26-15-31-07-651606/BackLeft.40362566.64808.mp4'),\n",
       " PosixPath('/n/groups/datta/tim_sainburg/datasets/peromoseq/remux/baseline/am/sessions/38201/23-10-26-15-31-07-651606/BackLeft.40362566.7200.mp4'),\n",
       " PosixPath('/n/groups/datta/tim_sainburg/datasets/peromoseq/remux/baseline/am/sessions/38201/23-10-26-15-31-07-651606/BackLeft.40362566.72009.mp4'),\n",
       " PosixPath('/n/groups/datta/tim_sainburg/datasets/peromoseq/remux/baseline/am/sessions/38201/23-10-26-15-31-07-651606/BackLeft.40362566.79210.mp4'),\n",
       " PosixPath('/n/groups/datta/tim_sainburg/datasets/peromoseq/remux/baseline/am/sessions/38201/23-10-26-15-31-07-651606/BackLeft.40362566.86411.mp4'),\n",
       " PosixPath('/n/groups/datta/tim_sainburg/datasets/peromoseq/remux/baseline/am/sessions/38201/23-10-26-15-31-07-651606/BackLeft.40362566.93612.mp4'),\n",
       " PosixPath('/n/groups/datta/tim_sainburg/datasets/peromoseq/remux/baseline/am/sessions/38201/23-10-26-15-31-07-651606/BackLeft.40362566.mp4'),\n",
       " PosixPath('/n/groups/datta/tim_sainburg/datasets/peromoseq/remux/baseline/am/sessions/38201/23-10-26-15-31-07-651606/BackRight.40362557.100813.mp4'),\n",
       " PosixPath('/n/groups/datta/tim_sainburg/datasets/peromoseq/remux/baseline/am/sessions/38201/23-10-26-15-31-07-651606/BackRight.40362557.108014.mp4'),\n",
       " PosixPath('/n/groups/datta/tim_sainburg/datasets/peromoseq/remux/baseline/am/sessions/38201/23-10-26-15-31-07-651606/BackRight.40362557.115215.mp4'),\n",
       " PosixPath('/n/groups/datta/tim_sainburg/datasets/peromoseq/remux/baseline/am/sessions/38201/23-10-26-15-31-07-651606/BackRight.40362557.122416.mp4'),\n",
       " PosixPath('/n/groups/datta/tim_sainburg/datasets/peromoseq/remux/baseline/am/sessions/38201/23-10-26-15-31-07-651606/BackRight.40362557.129617.mp4'),\n",
       " PosixPath('/n/groups/datta/tim_sainburg/datasets/peromoseq/remux/baseline/am/sessions/38201/23-10-26-15-31-07-651606/BackRight.40362557.136818.mp4'),\n",
       " PosixPath('/n/groups/datta/tim_sainburg/datasets/peromoseq/remux/baseline/am/sessions/38201/23-10-26-15-31-07-651606/BackRight.40362557.14401.mp4'),\n",
       " PosixPath('/n/groups/datta/tim_sainburg/datasets/peromoseq/remux/baseline/am/sessions/38201/23-10-26-15-31-07-651606/BackRight.40362557.144019.mp4'),\n",
       " PosixPath('/n/groups/datta/tim_sainburg/datasets/peromoseq/remux/baseline/am/sessions/38201/23-10-26-15-31-07-651606/BackRight.40362557.151220.mp4'),\n",
       " PosixPath('/n/groups/datta/tim_sainburg/datasets/peromoseq/remux/baseline/am/sessions/38201/23-10-26-15-31-07-651606/BackRight.40362557.158421.mp4'),\n",
       " PosixPath('/n/groups/datta/tim_sainburg/datasets/peromoseq/remux/baseline/am/sessions/38201/23-10-26-15-31-07-651606/BackRight.40362557.165622.mp4'),\n",
       " PosixPath('/n/groups/datta/tim_sainburg/datasets/peromoseq/remux/baseline/am/sessions/38201/23-10-26-15-31-07-651606/BackRight.40362557.172823.mp4'),\n",
       " PosixPath('/n/groups/datta/tim_sainburg/datasets/peromoseq/remux/baseline/am/sessions/38201/23-10-26-15-31-07-651606/BackRight.40362557.180024.mp4'),\n",
       " PosixPath('/n/groups/datta/tim_sainburg/datasets/peromoseq/remux/baseline/am/sessions/38201/23-10-26-15-31-07-651606/BackRight.40362557.187225.mp4'),\n",
       " PosixPath('/n/groups/datta/tim_sainburg/datasets/peromoseq/remux/baseline/am/sessions/38201/23-10-26-15-31-07-651606/BackRight.40362557.194426.mp4'),\n",
       " PosixPath('/n/groups/datta/tim_sainburg/datasets/peromoseq/remux/baseline/am/sessions/38201/23-10-26-15-31-07-651606/BackRight.40362557.201627.mp4'),\n",
       " PosixPath('/n/groups/datta/tim_sainburg/datasets/peromoseq/remux/baseline/am/sessions/38201/23-10-26-15-31-07-651606/BackRight.40362557.208828.mp4'),\n",
       " PosixPath('/n/groups/datta/tim_sainburg/datasets/peromoseq/remux/baseline/am/sessions/38201/23-10-26-15-31-07-651606/BackRight.40362557.21602.mp4'),\n",
       " PosixPath('/n/groups/datta/tim_sainburg/datasets/peromoseq/remux/baseline/am/sessions/38201/23-10-26-15-31-07-651606/BackRight.40362557.28803.mp4'),\n",
       " PosixPath('/n/groups/datta/tim_sainburg/datasets/peromoseq/remux/baseline/am/sessions/38201/23-10-26-15-31-07-651606/BackRight.40362557.36004.mp4'),\n",
       " PosixPath('/n/groups/datta/tim_sainburg/datasets/peromoseq/remux/baseline/am/sessions/38201/23-10-26-15-31-07-651606/BackRight.40362557.43205.mp4'),\n",
       " PosixPath('/n/groups/datta/tim_sainburg/datasets/peromoseq/remux/baseline/am/sessions/38201/23-10-26-15-31-07-651606/BackRight.40362557.50406.mp4'),\n",
       " PosixPath('/n/groups/datta/tim_sainburg/datasets/peromoseq/remux/baseline/am/sessions/38201/23-10-26-15-31-07-651606/BackRight.40362557.57607.mp4'),\n",
       " PosixPath('/n/groups/datta/tim_sainburg/datasets/peromoseq/remux/baseline/am/sessions/38201/23-10-26-15-31-07-651606/BackRight.40362557.64808.mp4'),\n",
       " PosixPath('/n/groups/datta/tim_sainburg/datasets/peromoseq/remux/baseline/am/sessions/38201/23-10-26-15-31-07-651606/BackRight.40362557.7200.mp4'),\n",
       " PosixPath('/n/groups/datta/tim_sainburg/datasets/peromoseq/remux/baseline/am/sessions/38201/23-10-26-15-31-07-651606/BackRight.40362557.72009.mp4'),\n",
       " PosixPath('/n/groups/datta/tim_sainburg/datasets/peromoseq/remux/baseline/am/sessions/38201/23-10-26-15-31-07-651606/BackRight.40362557.79210.mp4'),\n",
       " PosixPath('/n/groups/datta/tim_sainburg/datasets/peromoseq/remux/baseline/am/sessions/38201/23-10-26-15-31-07-651606/BackRight.40362557.86411.mp4'),\n",
       " PosixPath('/n/groups/datta/tim_sainburg/datasets/peromoseq/remux/baseline/am/sessions/38201/23-10-26-15-31-07-651606/BackRight.40362557.93612.mp4'),\n",
       " PosixPath('/n/groups/datta/tim_sainburg/datasets/peromoseq/remux/baseline/am/sessions/38201/23-10-26-15-31-07-651606/BackRight.40362557.mp4'),\n",
       " PosixPath('/n/groups/datta/tim_sainburg/datasets/peromoseq/remux/baseline/am/sessions/38201/23-10-26-15-31-07-651606/Bottom.40362565.100813.mp4'),\n",
       " PosixPath('/n/groups/datta/tim_sainburg/datasets/peromoseq/remux/baseline/am/sessions/38201/23-10-26-15-31-07-651606/Bottom.40362565.108014.mp4'),\n",
       " PosixPath('/n/groups/datta/tim_sainburg/datasets/peromoseq/remux/baseline/am/sessions/38201/23-10-26-15-31-07-651606/Bottom.40362565.115215.mp4'),\n",
       " PosixPath('/n/groups/datta/tim_sainburg/datasets/peromoseq/remux/baseline/am/sessions/38201/23-10-26-15-31-07-651606/Bottom.40362565.122416.mp4'),\n",
       " PosixPath('/n/groups/datta/tim_sainburg/datasets/peromoseq/remux/baseline/am/sessions/38201/23-10-26-15-31-07-651606/Bottom.40362565.129617.mp4'),\n",
       " PosixPath('/n/groups/datta/tim_sainburg/datasets/peromoseq/remux/baseline/am/sessions/38201/23-10-26-15-31-07-651606/Bottom.40362565.136818.mp4'),\n",
       " PosixPath('/n/groups/datta/tim_sainburg/datasets/peromoseq/remux/baseline/am/sessions/38201/23-10-26-15-31-07-651606/Bottom.40362565.14401.mp4'),\n",
       " PosixPath('/n/groups/datta/tim_sainburg/datasets/peromoseq/remux/baseline/am/sessions/38201/23-10-26-15-31-07-651606/Bottom.40362565.144019.mp4'),\n",
       " PosixPath('/n/groups/datta/tim_sainburg/datasets/peromoseq/remux/baseline/am/sessions/38201/23-10-26-15-31-07-651606/Bottom.40362565.151220.mp4'),\n",
       " PosixPath('/n/groups/datta/tim_sainburg/datasets/peromoseq/remux/baseline/am/sessions/38201/23-10-26-15-31-07-651606/Bottom.40362565.158421.mp4'),\n",
       " PosixPath('/n/groups/datta/tim_sainburg/datasets/peromoseq/remux/baseline/am/sessions/38201/23-10-26-15-31-07-651606/Bottom.40362565.165622.mp4'),\n",
       " PosixPath('/n/groups/datta/tim_sainburg/datasets/peromoseq/remux/baseline/am/sessions/38201/23-10-26-15-31-07-651606/Bottom.40362565.172823.mp4'),\n",
       " PosixPath('/n/groups/datta/tim_sainburg/datasets/peromoseq/remux/baseline/am/sessions/38201/23-10-26-15-31-07-651606/Bottom.40362565.180024.mp4'),\n",
       " PosixPath('/n/groups/datta/tim_sainburg/datasets/peromoseq/remux/baseline/am/sessions/38201/23-10-26-15-31-07-651606/Bottom.40362565.187225.mp4'),\n",
       " PosixPath('/n/groups/datta/tim_sainburg/datasets/peromoseq/remux/baseline/am/sessions/38201/23-10-26-15-31-07-651606/Bottom.40362565.194426.mp4'),\n",
       " PosixPath('/n/groups/datta/tim_sainburg/datasets/peromoseq/remux/baseline/am/sessions/38201/23-10-26-15-31-07-651606/Bottom.40362565.201627.mp4'),\n",
       " PosixPath('/n/groups/datta/tim_sainburg/datasets/peromoseq/remux/baseline/am/sessions/38201/23-10-26-15-31-07-651606/Bottom.40362565.208828.mp4'),\n",
       " PosixPath('/n/groups/datta/tim_sainburg/datasets/peromoseq/remux/baseline/am/sessions/38201/23-10-26-15-31-07-651606/Bottom.40362565.21602.mp4'),\n",
       " PosixPath('/n/groups/datta/tim_sainburg/datasets/peromoseq/remux/baseline/am/sessions/38201/23-10-26-15-31-07-651606/Bottom.40362565.28803.mp4'),\n",
       " PosixPath('/n/groups/datta/tim_sainburg/datasets/peromoseq/remux/baseline/am/sessions/38201/23-10-26-15-31-07-651606/Bottom.40362565.36004.mp4'),\n",
       " PosixPath('/n/groups/datta/tim_sainburg/datasets/peromoseq/remux/baseline/am/sessions/38201/23-10-26-15-31-07-651606/Bottom.40362565.43205.mp4'),\n",
       " PosixPath('/n/groups/datta/tim_sainburg/datasets/peromoseq/remux/baseline/am/sessions/38201/23-10-26-15-31-07-651606/Bottom.40362565.50406.mp4'),\n",
       " PosixPath('/n/groups/datta/tim_sainburg/datasets/peromoseq/remux/baseline/am/sessions/38201/23-10-26-15-31-07-651606/Bottom.40362565.57607.mp4'),\n",
       " PosixPath('/n/groups/datta/tim_sainburg/datasets/peromoseq/remux/baseline/am/sessions/38201/23-10-26-15-31-07-651606/Bottom.40362565.64808.mp4'),\n",
       " PosixPath('/n/groups/datta/tim_sainburg/datasets/peromoseq/remux/baseline/am/sessions/38201/23-10-26-15-31-07-651606/Bottom.40362565.7200.mp4'),\n",
       " PosixPath('/n/groups/datta/tim_sainburg/datasets/peromoseq/remux/baseline/am/sessions/38201/23-10-26-15-31-07-651606/Bottom.40362565.72009.mp4'),\n",
       " PosixPath('/n/groups/datta/tim_sainburg/datasets/peromoseq/remux/baseline/am/sessions/38201/23-10-26-15-31-07-651606/Bottom.40362565.79210.mp4'),\n",
       " PosixPath('/n/groups/datta/tim_sainburg/datasets/peromoseq/remux/baseline/am/sessions/38201/23-10-26-15-31-07-651606/Bottom.40362565.86411.mp4'),\n",
       " PosixPath('/n/groups/datta/tim_sainburg/datasets/peromoseq/remux/baseline/am/sessions/38201/23-10-26-15-31-07-651606/Bottom.40362565.93612.mp4'),\n",
       " PosixPath('/n/groups/datta/tim_sainburg/datasets/peromoseq/remux/baseline/am/sessions/38201/23-10-26-15-31-07-651606/Bottom.40362565.mp4'),\n",
       " PosixPath('/n/groups/datta/tim_sainburg/datasets/peromoseq/remux/baseline/am/sessions/38201/23-10-26-15-31-07-651606/FrontLeft.40362564.100813.mp4'),\n",
       " PosixPath('/n/groups/datta/tim_sainburg/datasets/peromoseq/remux/baseline/am/sessions/38201/23-10-26-15-31-07-651606/FrontLeft.40362564.108014.mp4'),\n",
       " PosixPath('/n/groups/datta/tim_sainburg/datasets/peromoseq/remux/baseline/am/sessions/38201/23-10-26-15-31-07-651606/FrontLeft.40362564.115215.mp4'),\n",
       " PosixPath('/n/groups/datta/tim_sainburg/datasets/peromoseq/remux/baseline/am/sessions/38201/23-10-26-15-31-07-651606/FrontLeft.40362564.122416.mp4'),\n",
       " PosixPath('/n/groups/datta/tim_sainburg/datasets/peromoseq/remux/baseline/am/sessions/38201/23-10-26-15-31-07-651606/FrontLeft.40362564.129617.mp4'),\n",
       " PosixPath('/n/groups/datta/tim_sainburg/datasets/peromoseq/remux/baseline/am/sessions/38201/23-10-26-15-31-07-651606/FrontLeft.40362564.136818.mp4'),\n",
       " PosixPath('/n/groups/datta/tim_sainburg/datasets/peromoseq/remux/baseline/am/sessions/38201/23-10-26-15-31-07-651606/FrontLeft.40362564.14401.mp4'),\n",
       " PosixPath('/n/groups/datta/tim_sainburg/datasets/peromoseq/remux/baseline/am/sessions/38201/23-10-26-15-31-07-651606/FrontLeft.40362564.144019.mp4'),\n",
       " PosixPath('/n/groups/datta/tim_sainburg/datasets/peromoseq/remux/baseline/am/sessions/38201/23-10-26-15-31-07-651606/FrontLeft.40362564.151220.mp4'),\n",
       " PosixPath('/n/groups/datta/tim_sainburg/datasets/peromoseq/remux/baseline/am/sessions/38201/23-10-26-15-31-07-651606/FrontLeft.40362564.158421.mp4'),\n",
       " PosixPath('/n/groups/datta/tim_sainburg/datasets/peromoseq/remux/baseline/am/sessions/38201/23-10-26-15-31-07-651606/FrontLeft.40362564.165622.mp4'),\n",
       " PosixPath('/n/groups/datta/tim_sainburg/datasets/peromoseq/remux/baseline/am/sessions/38201/23-10-26-15-31-07-651606/FrontLeft.40362564.172823.mp4'),\n",
       " PosixPath('/n/groups/datta/tim_sainburg/datasets/peromoseq/remux/baseline/am/sessions/38201/23-10-26-15-31-07-651606/FrontLeft.40362564.180024.mp4'),\n",
       " PosixPath('/n/groups/datta/tim_sainburg/datasets/peromoseq/remux/baseline/am/sessions/38201/23-10-26-15-31-07-651606/FrontLeft.40362564.187225.mp4'),\n",
       " PosixPath('/n/groups/datta/tim_sainburg/datasets/peromoseq/remux/baseline/am/sessions/38201/23-10-26-15-31-07-651606/FrontLeft.40362564.194426.mp4'),\n",
       " PosixPath('/n/groups/datta/tim_sainburg/datasets/peromoseq/remux/baseline/am/sessions/38201/23-10-26-15-31-07-651606/FrontLeft.40362564.201627.mp4'),\n",
       " PosixPath('/n/groups/datta/tim_sainburg/datasets/peromoseq/remux/baseline/am/sessions/38201/23-10-26-15-31-07-651606/FrontLeft.40362564.208828.mp4'),\n",
       " PosixPath('/n/groups/datta/tim_sainburg/datasets/peromoseq/remux/baseline/am/sessions/38201/23-10-26-15-31-07-651606/FrontLeft.40362564.21602.mp4'),\n",
       " PosixPath('/n/groups/datta/tim_sainburg/datasets/peromoseq/remux/baseline/am/sessions/38201/23-10-26-15-31-07-651606/FrontLeft.40362564.28803.mp4'),\n",
       " PosixPath('/n/groups/datta/tim_sainburg/datasets/peromoseq/remux/baseline/am/sessions/38201/23-10-26-15-31-07-651606/FrontLeft.40362564.36004.mp4'),\n",
       " PosixPath('/n/groups/datta/tim_sainburg/datasets/peromoseq/remux/baseline/am/sessions/38201/23-10-26-15-31-07-651606/FrontLeft.40362564.43205.mp4'),\n",
       " PosixPath('/n/groups/datta/tim_sainburg/datasets/peromoseq/remux/baseline/am/sessions/38201/23-10-26-15-31-07-651606/FrontLeft.40362564.50406.mp4'),\n",
       " PosixPath('/n/groups/datta/tim_sainburg/datasets/peromoseq/remux/baseline/am/sessions/38201/23-10-26-15-31-07-651606/FrontLeft.40362564.57607.mp4'),\n",
       " PosixPath('/n/groups/datta/tim_sainburg/datasets/peromoseq/remux/baseline/am/sessions/38201/23-10-26-15-31-07-651606/FrontLeft.40362564.64808.mp4'),\n",
       " PosixPath('/n/groups/datta/tim_sainburg/datasets/peromoseq/remux/baseline/am/sessions/38201/23-10-26-15-31-07-651606/FrontLeft.40362564.7200.mp4'),\n",
       " PosixPath('/n/groups/datta/tim_sainburg/datasets/peromoseq/remux/baseline/am/sessions/38201/23-10-26-15-31-07-651606/FrontLeft.40362564.72009.mp4'),\n",
       " PosixPath('/n/groups/datta/tim_sainburg/datasets/peromoseq/remux/baseline/am/sessions/38201/23-10-26-15-31-07-651606/FrontLeft.40362564.79210.mp4'),\n",
       " PosixPath('/n/groups/datta/tim_sainburg/datasets/peromoseq/remux/baseline/am/sessions/38201/23-10-26-15-31-07-651606/FrontLeft.40362564.86411.mp4'),\n",
       " PosixPath('/n/groups/datta/tim_sainburg/datasets/peromoseq/remux/baseline/am/sessions/38201/23-10-26-15-31-07-651606/FrontLeft.40362564.93612.mp4'),\n",
       " PosixPath('/n/groups/datta/tim_sainburg/datasets/peromoseq/remux/baseline/am/sessions/38201/23-10-26-15-31-07-651606/FrontLeft.40362564.mp4'),\n",
       " PosixPath('/n/groups/datta/tim_sainburg/datasets/peromoseq/remux/baseline/am/sessions/38201/23-10-26-15-31-07-651606/FrontRight.40362556.100813.mp4'),\n",
       " PosixPath('/n/groups/datta/tim_sainburg/datasets/peromoseq/remux/baseline/am/sessions/38201/23-10-26-15-31-07-651606/FrontRight.40362556.108014.mp4'),\n",
       " PosixPath('/n/groups/datta/tim_sainburg/datasets/peromoseq/remux/baseline/am/sessions/38201/23-10-26-15-31-07-651606/FrontRight.40362556.115215.mp4'),\n",
       " PosixPath('/n/groups/datta/tim_sainburg/datasets/peromoseq/remux/baseline/am/sessions/38201/23-10-26-15-31-07-651606/FrontRight.40362556.122416.mp4'),\n",
       " PosixPath('/n/groups/datta/tim_sainburg/datasets/peromoseq/remux/baseline/am/sessions/38201/23-10-26-15-31-07-651606/FrontRight.40362556.129617.mp4'),\n",
       " PosixPath('/n/groups/datta/tim_sainburg/datasets/peromoseq/remux/baseline/am/sessions/38201/23-10-26-15-31-07-651606/FrontRight.40362556.136818.mp4'),\n",
       " PosixPath('/n/groups/datta/tim_sainburg/datasets/peromoseq/remux/baseline/am/sessions/38201/23-10-26-15-31-07-651606/FrontRight.40362556.14401.mp4'),\n",
       " PosixPath('/n/groups/datta/tim_sainburg/datasets/peromoseq/remux/baseline/am/sessions/38201/23-10-26-15-31-07-651606/FrontRight.40362556.144019.mp4'),\n",
       " PosixPath('/n/groups/datta/tim_sainburg/datasets/peromoseq/remux/baseline/am/sessions/38201/23-10-26-15-31-07-651606/FrontRight.40362556.151220.mp4'),\n",
       " PosixPath('/n/groups/datta/tim_sainburg/datasets/peromoseq/remux/baseline/am/sessions/38201/23-10-26-15-31-07-651606/FrontRight.40362556.158421.mp4'),\n",
       " PosixPath('/n/groups/datta/tim_sainburg/datasets/peromoseq/remux/baseline/am/sessions/38201/23-10-26-15-31-07-651606/FrontRight.40362556.165622.mp4'),\n",
       " PosixPath('/n/groups/datta/tim_sainburg/datasets/peromoseq/remux/baseline/am/sessions/38201/23-10-26-15-31-07-651606/FrontRight.40362556.172823.mp4'),\n",
       " PosixPath('/n/groups/datta/tim_sainburg/datasets/peromoseq/remux/baseline/am/sessions/38201/23-10-26-15-31-07-651606/FrontRight.40362556.180024.mp4'),\n",
       " PosixPath('/n/groups/datta/tim_sainburg/datasets/peromoseq/remux/baseline/am/sessions/38201/23-10-26-15-31-07-651606/FrontRight.40362556.187225.mp4'),\n",
       " PosixPath('/n/groups/datta/tim_sainburg/datasets/peromoseq/remux/baseline/am/sessions/38201/23-10-26-15-31-07-651606/FrontRight.40362556.194426.mp4'),\n",
       " PosixPath('/n/groups/datta/tim_sainburg/datasets/peromoseq/remux/baseline/am/sessions/38201/23-10-26-15-31-07-651606/FrontRight.40362556.201627.mp4'),\n",
       " PosixPath('/n/groups/datta/tim_sainburg/datasets/peromoseq/remux/baseline/am/sessions/38201/23-10-26-15-31-07-651606/FrontRight.40362556.208828.mp4'),\n",
       " PosixPath('/n/groups/datta/tim_sainburg/datasets/peromoseq/remux/baseline/am/sessions/38201/23-10-26-15-31-07-651606/FrontRight.40362556.21602.mp4'),\n",
       " PosixPath('/n/groups/datta/tim_sainburg/datasets/peromoseq/remux/baseline/am/sessions/38201/23-10-26-15-31-07-651606/FrontRight.40362556.28803.mp4'),\n",
       " PosixPath('/n/groups/datta/tim_sainburg/datasets/peromoseq/remux/baseline/am/sessions/38201/23-10-26-15-31-07-651606/FrontRight.40362556.36004.mp4'),\n",
       " PosixPath('/n/groups/datta/tim_sainburg/datasets/peromoseq/remux/baseline/am/sessions/38201/23-10-26-15-31-07-651606/FrontRight.40362556.43205.mp4'),\n",
       " PosixPath('/n/groups/datta/tim_sainburg/datasets/peromoseq/remux/baseline/am/sessions/38201/23-10-26-15-31-07-651606/FrontRight.40362556.50406.mp4'),\n",
       " PosixPath('/n/groups/datta/tim_sainburg/datasets/peromoseq/remux/baseline/am/sessions/38201/23-10-26-15-31-07-651606/FrontRight.40362556.57607.mp4'),\n",
       " PosixPath('/n/groups/datta/tim_sainburg/datasets/peromoseq/remux/baseline/am/sessions/38201/23-10-26-15-31-07-651606/FrontRight.40362556.64808.mp4'),\n",
       " PosixPath('/n/groups/datta/tim_sainburg/datasets/peromoseq/remux/baseline/am/sessions/38201/23-10-26-15-31-07-651606/FrontRight.40362556.7200.mp4'),\n",
       " PosixPath('/n/groups/datta/tim_sainburg/datasets/peromoseq/remux/baseline/am/sessions/38201/23-10-26-15-31-07-651606/FrontRight.40362556.72009.mp4'),\n",
       " PosixPath('/n/groups/datta/tim_sainburg/datasets/peromoseq/remux/baseline/am/sessions/38201/23-10-26-15-31-07-651606/FrontRight.40362556.79210.mp4'),\n",
       " PosixPath('/n/groups/datta/tim_sainburg/datasets/peromoseq/remux/baseline/am/sessions/38201/23-10-26-15-31-07-651606/FrontRight.40362556.86411.mp4'),\n",
       " PosixPath('/n/groups/datta/tim_sainburg/datasets/peromoseq/remux/baseline/am/sessions/38201/23-10-26-15-31-07-651606/FrontRight.40362556.93612.mp4'),\n",
       " PosixPath('/n/groups/datta/tim_sainburg/datasets/peromoseq/remux/baseline/am/sessions/38201/23-10-26-15-31-07-651606/FrontRight.40362556.mp4'),\n",
       " PosixPath('/n/groups/datta/tim_sainburg/datasets/peromoseq/remux/baseline/am/sessions/38201/23-10-26-15-31-07-651606/Top.40362559.100813.mp4'),\n",
       " PosixPath('/n/groups/datta/tim_sainburg/datasets/peromoseq/remux/baseline/am/sessions/38201/23-10-26-15-31-07-651606/Top.40362559.108014.mp4'),\n",
       " PosixPath('/n/groups/datta/tim_sainburg/datasets/peromoseq/remux/baseline/am/sessions/38201/23-10-26-15-31-07-651606/Top.40362559.115215.mp4'),\n",
       " PosixPath('/n/groups/datta/tim_sainburg/datasets/peromoseq/remux/baseline/am/sessions/38201/23-10-26-15-31-07-651606/Top.40362559.122416.mp4'),\n",
       " PosixPath('/n/groups/datta/tim_sainburg/datasets/peromoseq/remux/baseline/am/sessions/38201/23-10-26-15-31-07-651606/Top.40362559.129617.mp4'),\n",
       " PosixPath('/n/groups/datta/tim_sainburg/datasets/peromoseq/remux/baseline/am/sessions/38201/23-10-26-15-31-07-651606/Top.40362559.136818.mp4'),\n",
       " PosixPath('/n/groups/datta/tim_sainburg/datasets/peromoseq/remux/baseline/am/sessions/38201/23-10-26-15-31-07-651606/Top.40362559.14401.mp4'),\n",
       " PosixPath('/n/groups/datta/tim_sainburg/datasets/peromoseq/remux/baseline/am/sessions/38201/23-10-26-15-31-07-651606/Top.40362559.144019.mp4'),\n",
       " PosixPath('/n/groups/datta/tim_sainburg/datasets/peromoseq/remux/baseline/am/sessions/38201/23-10-26-15-31-07-651606/Top.40362559.151220.mp4'),\n",
       " PosixPath('/n/groups/datta/tim_sainburg/datasets/peromoseq/remux/baseline/am/sessions/38201/23-10-26-15-31-07-651606/Top.40362559.158421.mp4'),\n",
       " PosixPath('/n/groups/datta/tim_sainburg/datasets/peromoseq/remux/baseline/am/sessions/38201/23-10-26-15-31-07-651606/Top.40362559.165622.mp4'),\n",
       " PosixPath('/n/groups/datta/tim_sainburg/datasets/peromoseq/remux/baseline/am/sessions/38201/23-10-26-15-31-07-651606/Top.40362559.172823.mp4'),\n",
       " PosixPath('/n/groups/datta/tim_sainburg/datasets/peromoseq/remux/baseline/am/sessions/38201/23-10-26-15-31-07-651606/Top.40362559.180024.mp4'),\n",
       " PosixPath('/n/groups/datta/tim_sainburg/datasets/peromoseq/remux/baseline/am/sessions/38201/23-10-26-15-31-07-651606/Top.40362559.187225.mp4'),\n",
       " PosixPath('/n/groups/datta/tim_sainburg/datasets/peromoseq/remux/baseline/am/sessions/38201/23-10-26-15-31-07-651606/Top.40362559.194426.mp4'),\n",
       " PosixPath('/n/groups/datta/tim_sainburg/datasets/peromoseq/remux/baseline/am/sessions/38201/23-10-26-15-31-07-651606/Top.40362559.201627.mp4'),\n",
       " PosixPath('/n/groups/datta/tim_sainburg/datasets/peromoseq/remux/baseline/am/sessions/38201/23-10-26-15-31-07-651606/Top.40362559.208828.mp4'),\n",
       " PosixPath('/n/groups/datta/tim_sainburg/datasets/peromoseq/remux/baseline/am/sessions/38201/23-10-26-15-31-07-651606/Top.40362559.21602.mp4'),\n",
       " PosixPath('/n/groups/datta/tim_sainburg/datasets/peromoseq/remux/baseline/am/sessions/38201/23-10-26-15-31-07-651606/Top.40362559.28803.mp4'),\n",
       " PosixPath('/n/groups/datta/tim_sainburg/datasets/peromoseq/remux/baseline/am/sessions/38201/23-10-26-15-31-07-651606/Top.40362559.36004.mp4'),\n",
       " PosixPath('/n/groups/datta/tim_sainburg/datasets/peromoseq/remux/baseline/am/sessions/38201/23-10-26-15-31-07-651606/Top.40362559.43205.mp4'),\n",
       " PosixPath('/n/groups/datta/tim_sainburg/datasets/peromoseq/remux/baseline/am/sessions/38201/23-10-26-15-31-07-651606/Top.40362559.50406.mp4'),\n",
       " PosixPath('/n/groups/datta/tim_sainburg/datasets/peromoseq/remux/baseline/am/sessions/38201/23-10-26-15-31-07-651606/Top.40362559.57607.mp4'),\n",
       " PosixPath('/n/groups/datta/tim_sainburg/datasets/peromoseq/remux/baseline/am/sessions/38201/23-10-26-15-31-07-651606/Top.40362559.64808.mp4'),\n",
       " PosixPath('/n/groups/datta/tim_sainburg/datasets/peromoseq/remux/baseline/am/sessions/38201/23-10-26-15-31-07-651606/Top.40362559.7200.mp4'),\n",
       " PosixPath('/n/groups/datta/tim_sainburg/datasets/peromoseq/remux/baseline/am/sessions/38201/23-10-26-15-31-07-651606/Top.40362559.72009.mp4'),\n",
       " PosixPath('/n/groups/datta/tim_sainburg/datasets/peromoseq/remux/baseline/am/sessions/38201/23-10-26-15-31-07-651606/Top.40362559.79210.mp4'),\n",
       " PosixPath('/n/groups/datta/tim_sainburg/datasets/peromoseq/remux/baseline/am/sessions/38201/23-10-26-15-31-07-651606/Top.40362559.86411.mp4'),\n",
       " PosixPath('/n/groups/datta/tim_sainburg/datasets/peromoseq/remux/baseline/am/sessions/38201/23-10-26-15-31-07-651606/Top.40362559.93612.mp4'),\n",
       " PosixPath('/n/groups/datta/tim_sainburg/datasets/peromoseq/remux/baseline/am/sessions/38201/23-10-26-15-31-07-651606/Top.40362559.mp4'),\n",
       " PosixPath('/n/groups/datta/tim_sainburg/datasets/peromoseq/remux/baseline/am/sessions/38201/23-10-26-15-31-07-651606/azurebottom.000570221712.14401.mp4'),\n",
       " PosixPath('/n/groups/datta/tim_sainburg/datasets/peromoseq/remux/baseline/am/sessions/38201/23-10-26-15-31-07-651606/azurebottom.000570221712.21602.mp4'),\n",
       " PosixPath('/n/groups/datta/tim_sainburg/datasets/peromoseq/remux/baseline/am/sessions/38201/23-10-26-15-31-07-651606/azurebottom.000570221712.28803.mp4'),\n",
       " PosixPath('/n/groups/datta/tim_sainburg/datasets/peromoseq/remux/baseline/am/sessions/38201/23-10-26-15-31-07-651606/azurebottom.000570221712.36004.mp4'),\n",
       " PosixPath('/n/groups/datta/tim_sainburg/datasets/peromoseq/remux/baseline/am/sessions/38201/23-10-26-15-31-07-651606/azurebottom.000570221712.43205.mp4'),\n",
       " PosixPath('/n/groups/datta/tim_sainburg/datasets/peromoseq/remux/baseline/am/sessions/38201/23-10-26-15-31-07-651606/azurebottom.000570221712.50406.mp4'),\n",
       " PosixPath('/n/groups/datta/tim_sainburg/datasets/peromoseq/remux/baseline/am/sessions/38201/23-10-26-15-31-07-651606/azurebottom.000570221712.7200.mp4'),\n",
       " PosixPath('/n/groups/datta/tim_sainburg/datasets/peromoseq/remux/baseline/am/sessions/38201/23-10-26-15-31-07-651606/azurebottom.000570221712.mp4'),\n",
       " PosixPath('/n/groups/datta/tim_sainburg/datasets/peromoseq/remux/baseline/am/sessions/38201/23-10-26-15-31-07-651606/azuretop.000567321712.14401.mp4'),\n",
       " PosixPath('/n/groups/datta/tim_sainburg/datasets/peromoseq/remux/baseline/am/sessions/38201/23-10-26-15-31-07-651606/azuretop.000567321712.21602.mp4'),\n",
       " PosixPath('/n/groups/datta/tim_sainburg/datasets/peromoseq/remux/baseline/am/sessions/38201/23-10-26-15-31-07-651606/azuretop.000567321712.28803.mp4'),\n",
       " PosixPath('/n/groups/datta/tim_sainburg/datasets/peromoseq/remux/baseline/am/sessions/38201/23-10-26-15-31-07-651606/azuretop.000567321712.36004.mp4'),\n",
       " PosixPath('/n/groups/datta/tim_sainburg/datasets/peromoseq/remux/baseline/am/sessions/38201/23-10-26-15-31-07-651606/azuretop.000567321712.43205.mp4'),\n",
       " PosixPath('/n/groups/datta/tim_sainburg/datasets/peromoseq/remux/baseline/am/sessions/38201/23-10-26-15-31-07-651606/azuretop.000567321712.50406.mp4'),\n",
       " PosixPath('/n/groups/datta/tim_sainburg/datasets/peromoseq/remux/baseline/am/sessions/38201/23-10-26-15-31-07-651606/azuretop.000567321712.7200.mp4'),\n",
       " PosixPath('/n/groups/datta/tim_sainburg/datasets/peromoseq/remux/baseline/am/sessions/38201/23-10-26-15-31-07-651606/azuretop.000567321712.mp4')]"
      ]
     },
     "execution_count": 154,
     "metadata": {},
     "output_type": "execute_result"
    }
   ],
   "source": [
    "recording_videos"
   ]
  },
  {
   "cell_type": "code",
   "execution_count": 155,
   "id": "0a5dabcc",
   "metadata": {},
   "outputs": [],
   "source": [
    "video_path = recording_videos[0]"
   ]
  },
  {
   "cell_type": "code",
   "execution_count": 156,
   "id": "256d1afc",
   "metadata": {},
   "outputs": [
    {
     "data": {
      "text/plain": [
       "PosixPath('/n/groups/datta/tim_sainburg/datasets/peromoseq/remux/baseline/am/sessions/38201/23-10-26-15-31-07-651606/BackLeft.40362566.100813.mp4')"
      ]
     },
     "execution_count": 156,
     "metadata": {},
     "output_type": "execute_result"
    }
   ],
   "source": [
    "video_path"
   ]
  },
  {
   "cell_type": "code",
   "execution_count": 243,
   "id": "7e4ad68f",
   "metadata": {},
   "outputs": [],
   "source": [
    "video_path = Path('/n/groups/datta/tim_sainburg/datasets/peromoseq/remux/baseline/am/sessions/38201/23-10-26-15-31-07-651606/BackLeft.40362566.122416.mp4')\n",
    "video_path = Path('/n/groups/datta/tim_sainburg/datasets/peromoseq/remux/baseline/am/sessions/38201/23-10-26-15-31-07-651606/BackRight.40362557.122416.mp4')\n",
    "#video_path = Path('/n/groups/datta/tim_sainburg/datasets/peromoseq/remux/baseline/NUB/sessions/38209/23-09-27-14-46-49-522610/BackLeft.40362566.7200.mp4')\n",
    "#video_path = Path('/n/groups/datta/tim_sainburg/datasets/peromoseq/remux/baseline/LL/sessions/24-08-16-14-45-39-561890/BackRight.40362557.mp4')"
   ]
  },
  {
   "cell_type": "code",
   "execution_count": 244,
   "id": "f56c4050",
   "metadata": {},
   "outputs": [],
   "source": [
    "#video_path = Path('/n/groups/datta/tim_sainburg/datasets/peromoseq/remux/baseline/am/sessions/38201/23-10-26-15-31-07-651606/BackLeft.40362566.mp4')\n",
    " "
   ]
  },
  {
   "cell_type": "code",
   "execution_count": 245,
   "id": "ae41d29c",
   "metadata": {},
   "outputs": [],
   "source": [
    "camera = \"BackRight\"\n",
    "start_frame = 122382"
   ]
  },
  {
   "cell_type": "code",
   "execution_count": 246,
   "id": "c1ad6117",
   "metadata": {},
   "outputs": [],
   "source": [
    "camera_names = [i.split('.')[0] for i in camera_names]"
   ]
  },
  {
   "cell_type": "code",
   "execution_count": 247,
   "id": "0405bd2c",
   "metadata": {},
   "outputs": [
    {
     "data": {
      "text/plain": [
       "['BackLeft', 'BackRight', 'Bottom', 'FrontLeft', 'FrontRight', 'Top']"
      ]
     },
     "execution_count": 247,
     "metadata": {},
     "output_type": "execute_result"
    }
   ],
   "source": [
    "camera_names"
   ]
  },
  {
   "cell_type": "code",
   "execution_count": 248,
   "id": "45fc240b",
   "metadata": {},
   "outputs": [
    {
     "data": {
      "text/plain": [
       "1"
      ]
     },
     "execution_count": 248,
     "metadata": {},
     "output_type": "execute_result"
    }
   ],
   "source": [
    "cam_idx = np.where(np.array(camera_names) == camera)[0][0]\n",
    "cam_idx"
   ]
  },
  {
   "cell_type": "code",
   "execution_count": 249,
   "id": "0434d12e",
   "metadata": {},
   "outputs": [],
   "source": [
    "n_frames = 7198"
   ]
  },
  {
   "cell_type": "code",
   "execution_count": 250,
   "id": "837bd31f",
   "metadata": {},
   "outputs": [
    {
     "data": {
      "text/plain": [
       "False"
      ]
     },
     "execution_count": 250,
     "metadata": {},
     "output_type": "execute_result"
    }
   ],
   "source": [
    "np.any(np.isnan(positions_2D_reprojections))"
   ]
  },
  {
   "cell_type": "code",
   "execution_count": 251,
   "id": "9caf02b3",
   "metadata": {},
   "outputs": [
    {
     "data": {
      "text/plain": [
       "(215906, 6, 25, 2)"
      ]
     },
     "execution_count": 251,
     "metadata": {},
     "output_type": "execute_result"
    }
   ],
   "source": [
    "positions_2D_reprojections.shape"
   ]
  },
  {
   "cell_type": "code",
   "execution_count": 252,
   "id": "b83aca39",
   "metadata": {},
   "outputs": [
    {
     "data": {
      "text/plain": [
       "122382"
      ]
     },
     "execution_count": 252,
     "metadata": {},
     "output_type": "execute_result"
    }
   ],
   "source": [
    "start_frame"
   ]
  },
  {
   "cell_type": "code",
   "execution_count": 253,
   "id": "1a387181",
   "metadata": {},
   "outputs": [
    {
     "data": {
      "text/plain": [
       "(7198, 25, 2)"
      ]
     },
     "execution_count": 253,
     "metadata": {},
     "output_type": "execute_result"
    }
   ],
   "source": [
    "kpts_sample = positions_2D_reprojections[start_frame:start_frame + n_frames, cam_idx]\n",
    "kpts_sample.shape"
   ]
  },
  {
   "cell_type": "code",
   "execution_count": 254,
   "id": "f8707878",
   "metadata": {},
   "outputs": [
    {
     "data": {
      "text/plain": [
       "<matplotlib.image.AxesImage at 0x7fd7903796f0>"
      ]
     },
     "execution_count": 254,
     "metadata": {},
     "output_type": "execute_result"
    },
    {
     "data": {
      "image/png": "[encoded data removed]",
      "text/plain": [
       "<Figure size 1600x200 with 1 Axes>"
      ]
     },
     "metadata": {},
     "output_type": "display_data"
    }
   ],
   "source": [
    "plt.matshow(kpts_sample[:, :, 0].T, aspect='auto')"
   ]
  },
  {
   "cell_type": "code",
   "execution_count": 255,
   "id": "0b6d567d",
   "metadata": {},
   "outputs": [
    {
     "data": {
      "text/plain": [
       "<matplotlib.image.AxesImage at 0x7fd7903d35b0>"
      ]
     },
     "execution_count": 255,
     "metadata": {},
     "output_type": "execute_result"
    },
    {
     "data": {
      "image/png": "[encoded data removed]",
      "text/plain": [
       "<Figure size 1600x200 with 1 Axes>"
      ]
     },
     "metadata": {},
     "output_type": "display_data"
    }
   ],
   "source": [
    "plt.matshow(kpts_sample[2000:3000, :, 0].T, aspect='auto')"
   ]
  },
  {
   "cell_type": "code",
   "execution_count": 256,
   "id": "9e9cb9cc",
   "metadata": {},
   "outputs": [],
   "source": [
    "confidences = np.ones(kpts_sample.shape[:-1])"
   ]
  },
  {
   "cell_type": "code",
   "execution_count": 257,
   "id": "97bc5d71",
   "metadata": {},
   "outputs": [],
   "source": [
    "import cv2\n",
    "from tqdm.auto import tqdm"
   ]
  },
  {
   "cell_type": "code",
   "execution_count": 258,
   "id": "a9d4f145",
   "metadata": {},
   "outputs": [],
   "source": [
    "def generate_keypoint_video(\n",
    "    output_directory: Path,\n",
    "    video_path: Path,\n",
    "    keypoint_coords: np.ndarray,\n",
    "    keypoint_conf: np.ndarray,  # New parameter for keypoint confidence\n",
    "    keypoint_info: dict,\n",
    "    skeleton_info: dict,\n",
    "    max_frames = None,\n",
    "):\n",
    "    \"\"\"\n",
    "    Generates a video with keypoint predictions overlaid on the original video frames.\n",
    "\n",
    "    Parameters:\n",
    "    -----------\n",
    "    output_directory : Path\n",
    "        Directory where the output video will be saved.\n",
    "        \n",
    "    video_path : Path\n",
    "        Path to the input video file.\n",
    "        \n",
    "    keypoint_coords : np.ndarray\n",
    "        Array of shape (#frames, #keypoints, 2) containing the coordinates of keypoints for each frame.\n",
    "        \n",
    "    keypoint_conf : np.ndarray\n",
    "        Array of shape (#frames, #keypoints) containing the confidence values (0-1) for each keypoint in each frame.\n",
    "        \n",
    "    keypoint_info : dict\n",
    "        Dictionary containing information about the keypoints. Each key in the dictionary represents a keypoint ID, and the \n",
    "        value is another dictionary with the following structure:\n",
    "        {\n",
    "            'name': str,       # Keypoint name\n",
    "            'id': int,         # Keypoint ID\n",
    "            'color': list,     # RGB color for the keypoint [R, G, B]\n",
    "            'type': str,       # Keypoint type (e.g., 'upper', 'lower')\n",
    "            'swap': str        # Name of the corresponding left/right keypoint to be swapped (for symmetry)\n",
    "        }\n",
    "        \n",
    "    skeleton_info : dict\n",
    "        Dictionary containing information about the skeleton. Each key in the dictionary represents a skeleton link ID, and \n",
    "        the value is another dictionary with the following structure:\n",
    "        {\n",
    "            'link': tuple,     # Tuple containing the names of the two keypoints that form the link\n",
    "            'id': int,         # Link ID\n",
    "            'color': list      # RGB color for the link [R, G, B]\n",
    "        }\n",
    "\n",
    "    Returns:\n",
    "    --------\n",
    "    None\n",
    "        The function saves the output video with keypoints and skeletons overlaid to the specified output directory.\n",
    "\n",
    "    Raises:\n",
    "    -------\n",
    "    ValueError\n",
    "        If the input video cannot be opened.\n",
    "    \n",
    "    Example:\n",
    "    --------\n",
    "    output_directory = Path('/output/directory')\n",
    "    video_path = Path('/path/to/video.mp4')\n",
    "    keypoint_coords = np.load('keypoint_coords.npy')  # Load your keypoints array\n",
    "    keypoint_conf = np.load('keypoint_conf.npy')  # Load your keypoint confidence array\n",
    "    keypoint_info = {\n",
    "        0: {'name': 'nose_tip', 'id': 0, 'color': [120, 184, 181], 'type': 'upper', 'swap': ''},\n",
    "        # Add other keypoints as needed\n",
    "    }\n",
    "    skeleton_info = {\n",
    "        0: {'link': ('tail_base', 'spine_low'), 'id': 0, 'color': [173, 160, 183]},\n",
    "        # Add other links as needed\n",
    "    }\n",
    "\n",
    "    generate_keypoint_video(output_directory, video_path, keypoint_coords, keypoint_conf, keypoint_info, skeleton_info)\n",
    "    \"\"\"\n",
    "    \n",
    "    # Open the input video\n",
    "    cap = cv2.VideoCapture(str(video_path))\n",
    "    if not cap.isOpened():\n",
    "        raise ValueError(f\"Could not open video: {video_path}\")\n",
    "\n",
    "    # Get video properties\n",
    "    frame_width = int(cap.get(cv2.CAP_PROP_FRAME_WIDTH))\n",
    "    frame_height = int(cap.get(cv2.CAP_PROP_FRAME_HEIGHT))\n",
    "    fps = cap.get(cv2.CAP_PROP_FPS)\n",
    "    total_frames = int(cap.get(cv2.CAP_PROP_FRAME_COUNT))\n",
    "\n",
    "    # Create the VideoWriter object\n",
    "    output_path = output_directory / (video_path.stem + \"_with_keypoints.mp4\")\n",
    "    fourcc = cv2.VideoWriter_fourcc(*\"mp4v\")\n",
    "    out = cv2.VideoWriter(str(output_path), fourcc, fps, (frame_width, frame_height))\n",
    "\n",
    "    frame_idx = 0\n",
    "    if max_frames is not None:\n",
    "        total_frames = min([max_frames, total_frames])\n",
    "\n",
    "    with tqdm(total=total_frames, desc=\"Processing frames\") as pbar:\n",
    "        while cap.isOpened():\n",
    "            ret, frame = cap.read()\n",
    "            if not ret:\n",
    "                break\n",
    "\n",
    "            # Create an overlay for drawing\n",
    "            overlay = frame.copy()\n",
    "\n",
    "            # Draw keypoints\n",
    "            for kp_idx, kp_info in keypoint_info.items():\n",
    "                if frame_idx < len(keypoint_coords) and kp_idx < keypoint_coords.shape[1]:\n",
    "                    x, y = keypoint_coords[frame_idx, kp_idx]\n",
    "                    conf = keypoint_conf[frame_idx, kp_idx]\n",
    "                    color = tuple(kp_info[\"color\"])\n",
    "                    alpha = conf  # Alpha value is based on the confidence (0-1)\n",
    "                    if conf > 0:  # Only draw if confidence is greater than 0\n",
    "                        overlay = cv2.circle(overlay, (int(x), int(y)), radius=4, color=color, thickness=-1)\n",
    "\n",
    "            # Apply the overlay with alpha blending for keypoints\n",
    "            cv2.addWeighted(overlay, alpha, frame, 1 - alpha, 0, frame)\n",
    "\n",
    "            # Draw skeleton\n",
    "            for link_info in skeleton_info.values():\n",
    "                kp1_name, kp2_name = link_info[\"link\"]\n",
    "                kp1_id = next((kp[\"id\"] for kp in keypoint_info.values() if kp[\"name\"] == kp1_name), None)\n",
    "                kp2_id = next((kp[\"id\"] for kp in keypoint_info.values() if kp[\"name\"] == kp2_name), None)\n",
    "\n",
    "                if kp1_id is not None and kp2_id is not None:\n",
    "                    if frame_idx < len(keypoint_coords) and kp1_id < keypoint_coords.shape[1] and kp2_id < keypoint_coords.shape[1]:\n",
    "                        x1, y1 = keypoint_coords[frame_idx, kp1_id]\n",
    "                        x2, y2 = keypoint_coords[frame_idx, kp2_id]\n",
    "                        kp1_conf = keypoint_conf[frame_idx, kp1_id]\n",
    "                        kp2_conf = keypoint_conf[frame_idx, kp2_id]\n",
    "                        color = tuple(link_info[\"color\"])\n",
    "                        alpha = min(kp1_conf, kp2_conf)  # Alpha value is the minimum confidence of the link\n",
    "                        if kp1_conf > 0 and kp2_conf > 0:  # Only draw if both confidence values are greater than 0\n",
    "                            overlay = cv2.line(overlay, (int(x1), int(y1)), (int(x2), int(y2)), color=color, thickness=2)\n",
    "\n",
    "            # Apply the overlay with alpha blending for skeleton\n",
    "            cv2.addWeighted(overlay, alpha, frame, 1 - alpha, 0, frame)\n",
    "\n",
    "            # Write the frame with keypoints and skeletons to the output video\n",
    "            out.write(frame)\n",
    "            frame_idx += 1\n",
    "            pbar.update(1)\n",
    "            if max_frames and frame_idx >= max_frames:\n",
    "                break\n",
    "\n",
    "    # Release video objects\n",
    "    cap.release()\n",
    "    out.release()\n",
    "    print(f\"Video saved to: {output_path}\")"
   ]
  },
  {
   "cell_type": "code",
   "execution_count": 259,
   "id": "7980d2eb",
   "metadata": {},
   "outputs": [],
   "source": [
    "video_output_directory = Path('/n/groups/datta/tim_sainburg/projects/23-09-29-peromoseq/data/kpt_output_video/reprojection')\n",
    "video_output_directory.mkdir(parents=True, exist_ok=True)"
   ]
  },
  {
   "cell_type": "code",
   "execution_count": 260,
   "id": "e3a7e5ea",
   "metadata": {},
   "outputs": [],
   "source": [
    "from multicamera_airflow_pipeline.tim_240731.skeletons.sainburg25pt import dataset_info"
   ]
  },
  {
   "cell_type": "code",
   "execution_count": 261,
   "id": "5330d715",
   "metadata": {},
   "outputs": [
    {
     "data": {
      "application/vnd.jupyter.widget-view+json": {
       "model_id": "552ea3b91fb345dfabd0a4dfdad1b815",
       "version_major": 2,
       "version_minor": 0
      },
      "text/plain": [
       "Processing frames:   0%|          | 0/7198 [00:00<?, ?it/s]"
      ]
     },
     "metadata": {},
     "output_type": "display_data"
    },
    {
     "name": "stdout",
     "output_type": "stream",
     "text": [
      "Video saved to: /n/groups/datta/tim_sainburg/projects/23-09-29-peromoseq/data/kpt_output_video/reprojection/BackRight.40362557.122416_with_keypoints.mp4\n"
     ]
    }
   ],
   "source": [
    "generate_keypoint_video(\n",
    "    output_directory = video_output_directory, \n",
    "    video_path = video_path,\n",
    "    keypoint_coords = kpts_sample,\n",
    "    keypoint_conf = confidences,\n",
    "    keypoint_info = dataset_info[\"keypoint_info\"],\n",
    "    skeleton_info = dataset_info[\"skeleton_info\"],\n",
    "    max_frames = None,\n",
    ")"
   ]
  },
  {
   "cell_type": "code",
   "execution_count": null,
   "id": "f9d591eb",
   "metadata": {},
   "outputs": [],
   "source": []
  },
  {
   "cell_type": "code",
   "execution_count": null,
   "id": "67ccde40",
   "metadata": {},
   "outputs": [],
   "source": []
  },
  {
   "cell_type": "code",
   "execution_count": null,
   "id": "8e109f4a",
   "metadata": {},
   "outputs": [],
   "source": []
  }
 ],
 "metadata": {
  "kernelspec": {
   "display_name": "Python (peromoseq)",
   "language": "python",
   "name": "peromoseq"
  },
  "language_info": {
   "codemirror_mode": {
    "name": "ipython",
    "version": 3
   },
   "file_extension": ".py",
   "mimetype": "text/x-python",
   "name": "python",
   "nbconvert_exporter": "python",
   "pygments_lexer": "ipython3",
   "version": "3.10.13"
  }
 },
 "nbformat": 4,
 "nbformat_minor": 5
}

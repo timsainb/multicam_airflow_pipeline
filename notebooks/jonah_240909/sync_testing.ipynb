{
 "cells": [
  {
   "cell_type": "code",
   "execution_count": 1,
   "metadata": {},
   "outputs": [],
   "source": [
    "%load_ext autoreload\n",
    "%autoreload 2"
   ]
  },
  {
   "cell_type": "code",
   "execution_count": 2,
   "metadata": {},
   "outputs": [
    {
     "name": "stderr",
     "output_type": "stream",
     "text": [
      "INFO:multicamera_airflow_pipeline.tim_240731.sync.sync_cameras:Python interpreter binary location: /home/jop9552/miniconda3/envs/dataPy_NWB2/bin/python\n"
     ]
    }
   ],
   "source": [
    "from multicamera_airflow_pipeline.tim_240731.sync.sync_cameras import CameraSynchronizer"
   ]
  },
  {
   "cell_type": "code",
   "execution_count": 6,
   "metadata": {},
   "outputs": [
    {
     "name": "stderr",
     "output_type": "stream",
     "text": [
      "INFO:multicamera_airflow_pipeline.tim_240731.sync.sync_cameras:Python interpreter binary location: /home/jop9552/miniconda3/envs/dataPy_NWB2/bin/python\n"
     ]
    }
   ],
   "source": [
    "# rec_dir = \"/n/groups/datta/Jonah/tmp//24-07-01-10-45-20-017041\"\n",
    "rec_dir = \"/n/groups/datta/Jonah/20231003_vlPAG_npx/raw_data/J07501/20240815_J07501_6cam/24-08-15-11-10-51-020094\"\n",
    "output_dir = \"/n/groups/datta/Jonah/tmp\"\n",
    "fps = 90\n",
    "cs = CameraSynchronizer(\n",
    "    rec_dir,\n",
    "    output_dir,\n",
    "    fps,\n",
    ")"
   ]
  },
  {
   "cell_type": "code",
   "execution_count": 7,
   "metadata": {},
   "outputs": [
    {
     "name": "stderr",
     "output_type": "stream",
     "text": [
      "INFO:multicamera_airflow_pipeline.tim_240731.sync.sync_cameras:Checking if correct FPS\n",
      "INFO:multicamera_airflow_pipeline.tim_240731.sync.sync_cameras:Loading video config, metadata, and triggerdata\n"
     ]
    },
    {
     "name": "stdout",
     "output_type": "stream",
     "text": [
      "> \u001b[0;32m/n/groups/datta/Jonah/Local_code_groups/6cam_repos/multicam_airflow_pipeline/multicamera_airflow_pipeline/tim_240731/sync/sync_cameras.py\u001b[0m(115)\u001b[0;36mload_metadata\u001b[0;34m()\u001b[0m\n",
      "\u001b[0;32m    113 \u001b[0;31m        \u001b[0;32mimport\u001b[0m \u001b[0mpdb\u001b[0m\u001b[0;34m\u001b[0m\u001b[0;34m\u001b[0m\u001b[0m\n",
      "\u001b[0m\u001b[0;32m    114 \u001b[0;31m        \u001b[0mpdb\u001b[0m\u001b[0;34m.\u001b[0m\u001b[0mset_trace\u001b[0m\u001b[0;34m(\u001b[0m\u001b[0;34m)\u001b[0m\u001b[0;34m\u001b[0m\u001b[0;34m\u001b[0m\u001b[0m\n",
      "\u001b[0m\u001b[0;32m--> 115 \u001b[0;31m        self.metadata_csvs_df = pd.DataFrame(\n",
      "\u001b[0m\u001b[0;32m    116 \u001b[0;31m            {\n",
      "\u001b[0m\u001b[0;32m    117 \u001b[0;31m                \u001b[0;34m\"camera\"\u001b[0m\u001b[0;34m:\u001b[0m \u001b[0mcamera\u001b[0m\u001b[0;34m,\u001b[0m\u001b[0;34m\u001b[0m\u001b[0;34m\u001b[0m\u001b[0m\n",
      "\u001b[0m\n",
      "*** NameError: name 'frames' is not defined\n",
      "['metadata', 'metadata', 'metadata', 'metadata', 'metadata', 'metadata']\n",
      "['metadata', 'metadata', 'metadata', 'metadata', 'metadata', 'metadata']\n",
      "['metadata', 'metadata', 'metadata', 'metadata', 'metadata', 'metadata']\n"
     ]
    }
   ],
   "source": [
    "cs.run()"
   ]
  },
  {
   "cell_type": "code",
   "execution_count": null,
   "metadata": {},
   "outputs": [],
   "source": []
  }
 ],
 "metadata": {
  "language_info": {
   "name": "python"
  }
 },
 "nbformat": 4,
 "nbformat_minor": 2
}

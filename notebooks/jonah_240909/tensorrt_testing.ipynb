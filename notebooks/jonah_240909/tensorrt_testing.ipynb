{
 "cells": [
  {
   "cell_type": "code",
   "execution_count": 2,
   "metadata": {},
   "outputs": [
    {
     "name": "stderr",
     "output_type": "stream",
     "text": [
      "/n/groups/datta/tim_sainburg/conda_envs/mmdeploy/lib/python3.10/site-packages/albumentations/__init__.py:13: UserWarning: A new version of Albumentations is available: 1.4.17 (you have 1.4.14). Upgrade using: pip install -U albumentations. To disable automatic update checks, set the environment variable NO_ALBUMENTATIONS_UPDATE to 1.\n",
      "  check_for_updates()\n",
      "INFO:__main__:Python interpreter binary location: /n/groups/datta/tim_sainburg/conda_envs/mmdeploy/bin/python\n"
     ]
    }
   ],
   "source": [
    "import torch\n",
    "from pathlib import Path\n",
    "from mmpose.registry import DATASETS\n",
    "from mmpose.datasets.datasets.base import BaseCocoStyleDataset\n",
    "import subprocess\n",
    "import tempfile\n",
    "import os\n",
    "import shutil\n",
    "import sys\n",
    "import logging\n",
    "import yaml\n",
    "logging.basicConfig(level=logging.DEBUG)\n",
    "logger = logging.getLogger(__name__)\n",
    "logger.info(f\"Python interpreter binary location: {sys.executable}\")"
   ]
  },
  {
   "cell_type": "code",
   "execution_count": 3,
   "metadata": {},
   "outputs": [],
   "source": [
    "%load_ext autoreload\n",
    "%autoreload 2"
   ]
  },
  {
   "cell_type": "code",
   "execution_count": 4,
   "metadata": {},
   "outputs": [
    {
     "name": "stderr",
     "output_type": "stream",
     "text": [
      "INFO:multicamera_airflow_pipeline.tim_240731.keypoints.tensorrt:Python interpreter binary location: /n/groups/datta/tim_sainburg/conda_envs/mmdeploy/bin/python\n"
     ]
    }
   ],
   "source": [
    "from multicamera_airflow_pipeline.tim_240731.keypoints import tensorrt"
   ]
  },
  {
   "cell_type": "code",
   "execution_count": 5,
   "metadata": {},
   "outputs": [],
   "source": [
    "config_file =  \"/n/groups/datta/Jonah/Local_code_groups/6cam_repos/multicam_airflow_pipeline/multicamera_airflow_pipeline/tim_240731/default_config.yaml\"\n",
    "config_file = Path(config_file)\n",
    "config = yaml.safe_load(open(config_file, \"r\"))"
   ]
  },
  {
   "cell_type": "code",
   "execution_count": 9,
   "metadata": {},
   "outputs": [
    {
     "name": "stderr",
     "output_type": "stream",
     "text": [
      "INFO:multicamera_airflow_pipeline.tim_240731.keypoints.tensorrt:Python interpreter binary location: /n/groups/datta/tim_sainburg/conda_envs/mmdeploy/bin/python\n",
      "INFO:multicamera_airflow_pipeline.tim_240731.keypoints.tensorrt:Using CUDA device: Tesla_V100S-PCIE-32GB\n"
     ]
    }
   ],
   "source": [
    "C = tensorrt.RTMModelConverter(\n",
    "    tensorrt_output_directory = \"/n/groups/datta/Jonah/tmp\",\n",
    "    **config[\"tensorrt_conversion\"],\n",
    ")"
   ]
  },
  {
   "cell_type": "code",
   "execution_count": 10,
   "metadata": {},
   "outputs": [
    {
     "name": "stderr",
     "output_type": "stream",
     "text": [
      "INFO:multicamera_airflow_pipeline.tim_240731.keypoints.tensorrt:Converting pose model to tensorrt. input: /n/groups/datta/Jonah/tmp/rtmpose-m_8xb64-210e_ap10k-256x256_24-05-04-21-35-13_305524/Tesla_V100S-PCIE-32GB\n",
      "INFO:multicamera_airflow_pipeline.tim_240731.keypoints.tensorrt:Checking if tensorrt model exists at: /n/groups/datta/Jonah/tmp/rtmpose-m_8xb64-210e_ap10k-256x256_24-05-04-21-35-13_305524/Tesla_V100S-PCIE-32GB\n"
     ]
    },
    {
     "name": "stdout",
     "output_type": "stream",
     "text": [
      "Model script: ======================\n",
      "module load gcc/9.2.0\n",
      "module load cuda/11.7\n",
      "source activate /n/groups/datta/tim_sainburg/conda_envs/mmdeploy;\n",
      "export PYTHONPATH=/tmp/tmp1p1rla_u:$PYTHONPATH;\n",
      "python /n/groups/datta/tim_sainburg/projects/mmdeploy/tools/deploy.py /n/groups/datta/tim_sainburg/projects/mmdeploy/configs/mmpose/pose-detection_simcc_tensorrt_dynamic-256x256.py /n/groups/datta/tim_sainburg/projects/24-01-05-multicamera_keypoints_mm2d/models/rtmpose/rtmpose-m_8xb64-210e_ap10k-256x256_24-05-04-21-35-13_305524/config.py /n/groups/datta/tim_sainburg/projects/24-01-05-multicamera_keypoints_mm2d/models/rtmpose/rtmpose-m_8xb64-210e_ap10k-256x256_24-05-04-21-35-13_305524/best_PCK_epoch_200.pth /n/groups/datta/tim_sainburg/projects/24-01-05-multicamera_keypoints_mm2d/example_data/test_mouse_cropped.png --work-dir /n/groups/datta/Jonah/tmp/rtmpose-m_8xb64-210e_ap10k-256x256_24-05-04-21-35-13_305524/Tesla_V100S-PCIE-32GB --device cuda:0 --dump-info\n",
      "======================\n",
      "Model output: ======================\n",
      "\n",
      "The following have been reloaded with a version change:\n",
      "  1) gcc/6.2.0 => gcc/9.2.0\n",
      "\n",
      "/bin/bash: line 2: activate: No such file or directory\n",
      "/n/groups/datta/tim_sainburg/conda_envs/mmdeploy/lib/python3.10/site-packages/albumentations/__init__.py:13: UserWarning: A new version of Albumentations is available: 1.4.17 (you have 1.4.14). Upgrade using: pip install -U albumentations. To disable automatic update checks, set the environment variable NO_ALBUMENTATIONS_UPDATE to 1.\n",
      "  check_for_updates()\n"
     ]
    },
    {
     "ename": "KeyboardInterrupt",
     "evalue": "",
     "output_type": "error",
     "traceback": [
      "\u001b[0;31m---------------------------------------------------------------------------\u001b[0m",
      "\u001b[0;31mKeyboardInterrupt\u001b[0m                         Traceback (most recent call last)",
      "Cell \u001b[0;32mIn[10], line 1\u001b[0m\n\u001b[0;32m----> 1\u001b[0m \u001b[43mC\u001b[49m\u001b[38;5;241;43m.\u001b[39;49m\u001b[43mrun\u001b[49m\u001b[43m(\u001b[49m\u001b[43m)\u001b[49m\n",
      "File \u001b[0;32m/n/groups/datta/tim_sainburg/projects/multicamera_airflow_pipeline/multicamera_airflow_pipeline/tim_240731/keypoints/tensorrt.py:236\u001b[0m, in \u001b[0;36mRTMModelConverter.run\u001b[0;34m(self)\u001b[0m\n\u001b[1;32m    234\u001b[0m \u001b[38;5;28;01mdef\u001b[39;00m \u001b[38;5;21mrun\u001b[39m(\u001b[38;5;28mself\u001b[39m):\n\u001b[1;32m    235\u001b[0m     \u001b[38;5;66;03m# self.convert_detection_to_tensorrt()\u001b[39;00m\n\u001b[0;32m--> 236\u001b[0m     \u001b[38;5;28;43mself\u001b[39;49m\u001b[38;5;241;43m.\u001b[39;49m\u001b[43mconvert_pose_to_tensorrt\u001b[49m\u001b[43m(\u001b[49m\u001b[43m)\u001b[49m\n",
      "File \u001b[0;32m/n/groups/datta/tim_sainburg/projects/multicamera_airflow_pipeline/multicamera_airflow_pipeline/tim_240731/keypoints/tensorrt.py:153\u001b[0m, in \u001b[0;36mRTMModelConverter.convert_pose_to_tensorrt\u001b[0;34m(self)\u001b[0m\n\u001b[1;32m    151\u001b[0m \u001b[38;5;66;03m# Read output line by line as it is produced\u001b[39;00m\n\u001b[1;32m    152\u001b[0m \u001b[38;5;28mprint\u001b[39m(\u001b[38;5;124m\"\u001b[39m\u001b[38;5;124mModel output: ======================\u001b[39m\u001b[38;5;124m\"\u001b[39m)\n\u001b[0;32m--> 153\u001b[0m \u001b[38;5;28;01mfor\u001b[39;00m line \u001b[38;5;129;01min\u001b[39;00m process\u001b[38;5;241m.\u001b[39mstdout:\n\u001b[1;32m    154\u001b[0m     \u001b[38;5;28mprint\u001b[39m(line, end\u001b[38;5;241m=\u001b[39m\u001b[38;5;124m\"\u001b[39m\u001b[38;5;124m\"\u001b[39m)\n\u001b[1;32m    156\u001b[0m \u001b[38;5;66;03m# Wait for the subprocess to finish\u001b[39;00m\n",
      "\u001b[0;31mKeyboardInterrupt\u001b[0m: "
     ]
    }
   ],
   "source": [
    "C.run()"
   ]
  },
  {
   "cell_type": "code",
   "execution_count": 8,
   "metadata": {},
   "outputs": [
    {
     "name": "stderr",
     "output_type": "stream",
     "text": [
      "INFO:multicamera_airflow_pipeline.tim_240731.keypoints.tensorrt:Python interpreter binary location: /n/groups/datta/tim_sainburg/conda_envs/mmdeploy/bin/python\n"
     ]
    },
    {
     "data": {
      "text/plain": [
       "4"
      ]
     },
     "execution_count": 8,
     "metadata": {},
     "output_type": "execute_result"
    }
   ],
   "source": [
    "2+2"
   ]
  },
  {
   "cell_type": "code",
   "execution_count": null,
   "metadata": {},
   "outputs": [],
   "source": []
  }
 ],
 "metadata": {
  "language_info": {
   "name": "python"
  }
 },
 "nbformat": 4,
 "nbformat_minor": 2
}

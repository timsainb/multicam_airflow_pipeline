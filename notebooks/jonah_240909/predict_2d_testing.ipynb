{
 "cells": [
  {
   "cell_type": "code",
   "execution_count": null,
   "metadata": {},
   "outputs": [],
   "source": [
    "# conda env: mmdeploy"
   ]
  },
  {
   "cell_type": "code",
   "execution_count": 1,
   "metadata": {},
   "outputs": [
    {
     "name": "stderr",
     "output_type": "stream",
     "text": [
      "/n/groups/datta/tim_sainburg/conda_envs/mmdeploy/lib/python3.10/site-packages/albumentations/__init__.py:13: UserWarning: A new version of Albumentations is available: 1.4.17 (you have 1.4.14). Upgrade using: pip install -U albumentations. To disable automatic update checks, set the environment variable NO_ALBUMENTATIONS_UPDATE to 1.\n",
      "  check_for_updates()\n",
      "INFO:__main__:Python interpreter binary location: /n/groups/datta/tim_sainburg/conda_envs/mmdeploy/bin/python\n"
     ]
    }
   ],
   "source": [
    "import torch\n",
    "from pathlib import Path\n",
    "from mmpose.registry import DATASETS\n",
    "from mmpose.datasets.datasets.base import BaseCocoStyleDataset\n",
    "from os.path import join, exists\n",
    "import subprocess\n",
    "import tempfile\n",
    "import os\n",
    "import shutil\n",
    "import sys\n",
    "import logging\n",
    "import yaml\n",
    "\n",
    "logging.basicConfig(level=logging.DEBUG)\n",
    "logger = logging.getLogger(__name__)\n",
    "logger.info(f\"Python interpreter binary location: {sys.executable}\")"
   ]
  },
  {
   "cell_type": "code",
   "execution_count": 2,
   "metadata": {},
   "outputs": [
    {
     "data": {
      "text/plain": [
       "True"
      ]
     },
     "execution_count": 2,
     "metadata": {},
     "output_type": "execute_result"
    }
   ],
   "source": [
    "torch.cuda.is_available()"
   ]
  },
  {
   "cell_type": "code",
   "execution_count": 3,
   "metadata": {},
   "outputs": [],
   "source": [
    "import yaml\n",
    "\n",
    "config_file =  \"/n/groups/datta/Jonah/Local_code_groups/6cam_repos/multicam_airflow_pipeline/multicamera_airflow_pipeline/tim_240731/default_config.yaml\"\n",
    "config_file = Path(config_file)\n",
    "config = yaml.safe_load(open(config_file, \"r\"))\n",
    "\n",
    "for kw in [\"use_tensorrt\", \"tensorrt_rtmdetection_model_name\", \"tensorrt_rtmpose_model_name\"]:\n",
    "    if kw in config[\"prediction_2d\"]:\n",
    "        config[\"prediction_2d\"].pop(kw)\n",
    "\n",
    "rec_dir = \"/n/groups/datta/Jonah/20240925_PBN_npx/raw_data/J07901/20240930_J07901_6cam_PBN/24-09-30-15-43-47-490092\"\n",
    "output_directory_predictions = join(rec_dir, \"tmp_2d_preds\")\n",
    "expected_video_length_frames = 432017\n",
    "tensorrt_model_directory = \"/n/groups/datta/kpts_pipeline/tim_240731/results/tensorrt/\"\n"
   ]
  },
  {
   "cell_type": "code",
   "execution_count": 4,
   "metadata": {},
   "outputs": [
    {
     "name": "stderr",
     "output_type": "stream",
     "text": [
      "DEBUG:h5py._conv:Creating converter from 7 to 5\n",
      "DEBUG:h5py._conv:Creating converter from 5 to 7\n",
      "DEBUG:h5py._conv:Creating converter from 7 to 5\n",
      "DEBUG:h5py._conv:Creating converter from 5 to 7\n",
      "INFO:multicamera_airflow_pipeline.tim_240731.keypoints.predict_2D:Python interpreter binary location: /n/groups/datta/tim_sainburg/conda_envs/mmdeploy/bin/python\n",
      "INFO:multicamera_airflow_pipeline.tim_240731.keypoints.predict_2D:Using CUDA device: Quadro_RTX_8000\n",
      "INFO:multicamera_airflow_pipeline.tim_240731.keypoints.predict_2D:Using Tensorrt: True\n",
      "INFO:multicamera_airflow_pipeline.tim_240731.keypoints.predict_2D:Using tensorrt, loading models\n",
      "INFO:multicamera_airflow_pipeline.tim_240731.keypoints.predict_2D:Init completed\n",
      "INFO:multicamera_airflow_pipeline.tim_240731.keypoints.predict_2D:Running 2D inference over videos\n",
      "INFO:multicamera_airflow_pipeline.tim_240731.keypoints.predict_2D:Video processing incomplete, running\n",
      "INFO:multicamera_airflow_pipeline.tim_240731.keypoints.predict_2D:Processing 6 videos\n"
     ]
    },
    {
     "data": {
      "application/vnd.jupyter.widget-view+json": {
       "model_id": "3165f830b11d41a7b547bbea8b723f4f",
       "version_major": 2,
       "version_minor": 0
      },
      "text/plain": [
       "processing videos:   0%|          | 0/6 [00:00<?, ?it/s]"
      ]
     },
     "metadata": {},
     "output_type": "display_data"
    },
    {
     "name": "stderr",
     "output_type": "stream",
     "text": [
      "INFO:multicamera_airflow_pipeline.tim_240731.keypoints.predict_2D:Video failed /n/groups/datta/Jonah/20240925_PBN_npx/raw_data/J07901/20240930_J07901_6cam_PBN/24-09-30-15-43-47-490092/24-09-30-15-43-47-490092.BackBottom.0.mp4, writing to log file /n/groups/datta/Jonah/20240925_PBN_npx/raw_data/J07901/20240930_J07901_6cam_PBN/24-09-30-15-43-47-490092/tmp_2d_preds/24-09-30-15-43-47-490092.BackBottom.0.error.log\n",
      "INFO:multicamera_airflow_pipeline.tim_240731.keypoints.predict_2D:Video failed /n/groups/datta/Jonah/20240925_PBN_npx/raw_data/J07901/20240930_J07901_6cam_PBN/24-09-30-15-43-47-490092/24-09-30-15-43-47-490092.BackLeft.0.mp4, writing to log file /n/groups/datta/Jonah/20240925_PBN_npx/raw_data/J07901/20240930_J07901_6cam_PBN/24-09-30-15-43-47-490092/tmp_2d_preds/24-09-30-15-43-47-490092.BackLeft.0.error.log\n",
      "INFO:multicamera_airflow_pipeline.tim_240731.keypoints.predict_2D:Video failed /n/groups/datta/Jonah/20240925_PBN_npx/raw_data/J07901/20240930_J07901_6cam_PBN/24-09-30-15-43-47-490092/24-09-30-15-43-47-490092.BackRight.0.mp4, writing to log file /n/groups/datta/Jonah/20240925_PBN_npx/raw_data/J07901/20240930_J07901_6cam_PBN/24-09-30-15-43-47-490092/tmp_2d_preds/24-09-30-15-43-47-490092.BackRight.0.error.log\n",
      "INFO:multicamera_airflow_pipeline.tim_240731.keypoints.predict_2D:Video failed /n/groups/datta/Jonah/20240925_PBN_npx/raw_data/J07901/20240930_J07901_6cam_PBN/24-09-30-15-43-47-490092/24-09-30-15-43-47-490092.FrontBottom.0.mp4, writing to log file /n/groups/datta/Jonah/20240925_PBN_npx/raw_data/J07901/20240930_J07901_6cam_PBN/24-09-30-15-43-47-490092/tmp_2d_preds/24-09-30-15-43-47-490092.FrontBottom.0.error.log\n",
      "INFO:multicamera_airflow_pipeline.tim_240731.keypoints.predict_2D:Video failed /n/groups/datta/Jonah/20240925_PBN_npx/raw_data/J07901/20240930_J07901_6cam_PBN/24-09-30-15-43-47-490092/24-09-30-15-43-47-490092.FrontLeft.0.mp4, writing to log file /n/groups/datta/Jonah/20240925_PBN_npx/raw_data/J07901/20240930_J07901_6cam_PBN/24-09-30-15-43-47-490092/tmp_2d_preds/24-09-30-15-43-47-490092.FrontLeft.0.error.log\n",
      "INFO:multicamera_airflow_pipeline.tim_240731.keypoints.predict_2D:Video failed /n/groups/datta/Jonah/20240925_PBN_npx/raw_data/J07901/20240930_J07901_6cam_PBN/24-09-30-15-43-47-490092/24-09-30-15-43-47-490092.FrontRight.0.mp4, writing to log file /n/groups/datta/Jonah/20240925_PBN_npx/raw_data/J07901/20240930_J07901_6cam_PBN/24-09-30-15-43-47-490092/tmp_2d_preds/24-09-30-15-43-47-490092.FrontRight.0.error.log\n",
      "INFO:multicamera_airflow_pipeline.tim_240731.keypoints.predict_2D:Completed processing 6 videos\n",
      "INFO:multicamera_airflow_pipeline.tim_240731.keypoints.predict_2D:Completed 0 out of 6 videos\n",
      "INFO:multicamera_airflow_pipeline.tim_240731.keypoints.predict_2D:Not all videos completed, not writing completed.log\n"
     ]
    }
   ],
   "source": [
    "# grab sync cameras function\n",
    "from multicamera_airflow_pipeline.tim_240731.keypoints.predict_2D import Inferencer2D\n",
    "inferencer = Inferencer2D(\n",
    "    recording_directory = rec_dir, \n",
    "    output_directory_predictions = output_directory_predictions,\n",
    "    expected_video_length_frames = expected_video_length_frames,\n",
    "    tensorrt_model_directory=tensorrt_model_directory,\n",
    "    tensorrt_rtmdetection_model_name=\"rtmdet_tiny_8xb32-300e_coco_chronic_24-05-04-17-51-58_216661\",\n",
    "    tensorrt_rtmpose_model_name=\"rtmpose-m_8xb64-210e_ap10k-256x256_24-05-04-21-35-13_305524\",\n",
    "    use_tensorrt=True,\n",
    "    **config[\"prediction_2d\"]\n",
    ")\n",
    "inferencer.run()"
   ]
  },
  {
   "cell_type": "code",
   "execution_count": 5,
   "metadata": {},
   "outputs": [
    {
     "name": "stdout",
     "output_type": "stream",
     "text": [
      "/n/groups/datta/Jonah/Local_code_groups/6cam_repos/multicam_airflow_pipeline/notebooks/jonah_240909\n"
     ]
    }
   ],
   "source": [
    "!pwd"
   ]
  },
  {
   "cell_type": "code",
   "execution_count": null,
   "metadata": {},
   "outputs": [],
   "source": []
  }
 ],
 "metadata": {
  "language_info": {
   "name": "python"
  }
 },
 "nbformat": 4,
 "nbformat_minor": 2
}

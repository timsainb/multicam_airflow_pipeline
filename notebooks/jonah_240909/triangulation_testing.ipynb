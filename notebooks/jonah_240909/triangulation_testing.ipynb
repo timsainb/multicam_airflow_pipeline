{
 "cells": [
  {
   "cell_type": "code",
   "execution_count": 1,
   "metadata": {},
   "outputs": [],
   "source": [
    "%load_ext autoreload\n",
    "%autoreload 2"
   ]
  },
  {
   "cell_type": "code",
   "execution_count": 4,
   "metadata": {},
   "outputs": [
    {
     "name": "stderr",
     "output_type": "stream",
     "text": [
      "DEBUG:matplotlib:matplotlib data path: /home/jop9552/miniconda3/envs/dataPy_NWB2/lib/python3.9/site-packages/matplotlib/mpl-data\n",
      "DEBUG:matplotlib:CONFIGDIR=/home/jop9552/.config/matplotlib\n",
      "DEBUG:matplotlib:interactive is False\n",
      "DEBUG:matplotlib:platform is linux\n",
      "DEBUG:matplotlib:CACHEDIR=/home/jop9552/.cache/matplotlib\n",
      "DEBUG:matplotlib.font_manager:Using fontManager instance from /home/jop9552/.cache/matplotlib/fontlist-v330.json\n",
      "DEBUG:h5py._conv:Creating converter from 7 to 5\n",
      "DEBUG:h5py._conv:Creating converter from 5 to 7\n",
      "DEBUG:h5py._conv:Creating converter from 7 to 5\n",
      "DEBUG:h5py._conv:Creating converter from 5 to 7\n"
     ]
    },
    {
     "name": "stdout",
     "output_type": "stream",
     "text": [
      "Python interpreter binary location: /home/jop9552/miniconda3/envs/dataPy_NWB2/bin/python\n"
     ]
    }
   ],
   "source": [
    "from multicamera_airflow_pipeline.tim_240731.sync.sync_cameras import CameraSynchronizer\n",
    "from multicamera_airflow_pipeline.tim_240731.keypoints.triangulation import Triangulator"
   ]
  },
  {
   "cell_type": "code",
   "execution_count": 5,
   "metadata": {},
   "outputs": [],
   "source": [
    "rec_name = \"24-08-15-11-10-51-020094\"\n",
    "predictions_2d_directory = f\"/n/groups/datta/kpts_pipeline/tim_240731/results/2d_predictions/{rec_name}\"\n",
    "output_directory_triangulation = f\"/n/groups/datta/Jonah/tmp/{rec_name}/triangulation\"\n",
    "camera_sync_file = f\"/n/groups/datta/kpts_pipeline/tim_240731/results/camera_sync/{rec_name}/camera_sync.csv\"\n",
    "expected_frames_per_video = 30 * 90\n",
    "camera_calibration_directory = \"/n/groups/datta/kpts_pipeline/tim_240731/results/camera_calibration/24-08-15-12-31-33-685540\""
   ]
  },
  {
   "cell_type": "code",
   "execution_count": 6,
   "metadata": {},
   "outputs": [],
   "source": [
    "tr = Triangulator(\n",
    "    predictions_2d_directory,  # Directory where 2D predictions are stored for this video\n",
    "    output_directory_triangulation,  # Directory to save resulting memmap files\n",
    "    camera_sync_file,  # CSV file with camera sync data\n",
    "    expected_frames_per_video,  # Expected number of frames per video\n",
    "    camera_calibration_directory,  # Directory with calibration data in jarvis format\n",
    "    n_jobs=1,  # Number of parallel jobs\n",
    ")"
   ]
  },
  {
   "cell_type": "code",
   "execution_count": 7,
   "metadata": {},
   "outputs": [
    {
     "name": "stderr",
     "output_type": "stream",
     "text": [
      "INFO:multicamera_airflow_pipeline.tim_240731.keypoints.triangulation:Different frames for cameras\n"
     ]
    },
    {
     "ename": "AssertionError",
     "evalue": "",
     "output_type": "error",
     "traceback": [
      "\u001b[0;31m---------------------------------------------------------------------------\u001b[0m",
      "\u001b[0;31mAssertionError\u001b[0m                            Traceback (most recent call last)",
      "Cell \u001b[0;32mIn[7], line 1\u001b[0m\n\u001b[0;32m----> 1\u001b[0m \u001b[43mtr\u001b[49m\u001b[38;5;241;43m.\u001b[39;49m\u001b[43mrun\u001b[49m\u001b[43m(\u001b[49m\u001b[43m)\u001b[49m\n",
      "File \u001b[0;32m/n/groups/datta/Jonah/Local_code_groups/6cam_repos/multicam_airflow_pipeline/multicamera_airflow_pipeline/tim_240731/keypoints/triangulation.py:120\u001b[0m, in \u001b[0;36mTriangulator.run\u001b[0;34m(self)\u001b[0m\n\u001b[1;32m    117\u001b[0m         \u001b[38;5;28;01mreturn\u001b[39;00m\n\u001b[1;32m    119\u001b[0m \u001b[38;5;66;03m# load the 2D predictions\u001b[39;00m\n\u001b[0;32m--> 120\u001b[0m \u001b[38;5;28;43mself\u001b[39;49m\u001b[38;5;241;43m.\u001b[39;49m\u001b[43mload_predictions\u001b[49m\u001b[43m(\u001b[49m\u001b[43m)\u001b[49m\n\u001b[1;32m    122\u001b[0m \u001b[38;5;66;03m# ensure the camera sync already exists\u001b[39;00m\n\u001b[1;32m    123\u001b[0m \u001b[38;5;28;01mif\u001b[39;00m \u001b[38;5;129;01mnot\u001b[39;00m \u001b[38;5;28mself\u001b[39m\u001b[38;5;241m.\u001b[39mcamera_sync_file\u001b[38;5;241m.\u001b[39mexists():\n",
      "File \u001b[0;32m/n/groups/datta/Jonah/Local_code_groups/6cam_repos/multicam_airflow_pipeline/multicamera_airflow_pipeline/tim_240731/keypoints/triangulation.py:435\u001b[0m, in \u001b[0;36mTriangulator.load_predictions\u001b[0;34m(self)\u001b[0m\n\u001b[1;32m    431\u001b[0m \u001b[38;5;28mself\u001b[39m\u001b[38;5;241m.\u001b[39mrecording_predictions \u001b[38;5;241m=\u001b[39m pd\u001b[38;5;241m.\u001b[39mDataFrame(\n\u001b[1;32m    432\u001b[0m     {\u001b[38;5;124m\"\u001b[39m\u001b[38;5;124mcamera\u001b[39m\u001b[38;5;124m\"\u001b[39m: cam, \u001b[38;5;124m\"\u001b[39m\u001b[38;5;124mframe\u001b[39m\u001b[38;5;124m\"\u001b[39m: frame, \u001b[38;5;124m\"\u001b[39m\u001b[38;5;124mfile\u001b[39m\u001b[38;5;124m\"\u001b[39m: predictions_2d_files}\n\u001b[1;32m    433\u001b[0m )\n\u001b[1;32m    434\u001b[0m \u001b[38;5;66;03m# assert that there is the same number of frames for each camera\u001b[39;00m\n\u001b[0;32m--> 435\u001b[0m \u001b[38;5;28;01massert\u001b[39;00m same_frames_for_all_cameras(\u001b[38;5;28mself\u001b[39m\u001b[38;5;241m.\u001b[39mrecording_predictions)\n",
      "\u001b[0;31mAssertionError\u001b[0m: "
     ]
    }
   ],
   "source": [
    "tr.run()"
   ]
  }
 ],
 "metadata": {
  "language_info": {
   "name": "python"
  }
 },
 "nbformat": 4,
 "nbformat_minor": 2
}

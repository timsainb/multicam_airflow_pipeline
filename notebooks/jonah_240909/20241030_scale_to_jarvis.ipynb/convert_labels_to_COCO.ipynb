{
 "cells": [
  {
   "cell_type": "code",
   "execution_count": 1,
   "metadata": {},
   "outputs": [],
   "source": [
    "%load_ext autoreload\n",
    "%autoreload 2"
   ]
  },
  {
   "cell_type": "code",
   "execution_count": 2,
   "metadata": {},
   "outputs": [],
   "source": [
    "from glob import glob\n",
    "from pathlib import Path\n",
    "\n",
    "from multicamera_labelling_and_training.labelling_set_to_training_set import (\n",
    "    TrainingSetCreator,\n",
    ")"
   ]
  },
  {
   "cell_type": "code",
   "execution_count": 3,
   "metadata": {},
   "outputs": [],
   "source": [
    "# where you want to save your training set\n",
    "output_directory = Path(\"/n/groups/datta/6cam_keypoint_networks/training_data/JP_CW_scale_annos/COCO_format\")\n",
    "\n",
    "# what to name the dataset\n",
    "trainingset_name = \"JP_CW_scale_annos\"\n",
    "\n",
    "dataset_locs = glob(\"/n/groups/datta/6cam_keypoint_networks/training_data/JP_CW_scale_annos/JARVIS_format/*\")\n",
    "dataset_locs = [{\"location\": loc, \"use_in_validation\": True} for loc in dataset_locs]"
   ]
  },
  {
   "cell_type": "code",
   "execution_count": 4,
   "metadata": {},
   "outputs": [],
   "source": [
    "# this needs to match with the order used in mmpose\n",
    "# (this is also the gimbal-compatible order for these keypoints)\n",
    "keypoints_order = [\n",
    "    \"spine_low\",\n",
    "    \"tail_base\",\n",
    "    \"spine_mid\",\n",
    "    \"spine_high\",\n",
    "    \"left_ear\",\n",
    "    \"right_ear\",\n",
    "    \"forehead\",\n",
    "    \"nose_tip\",\n",
    "    \"left_fore_paw\",\n",
    "    \"right_fore_paw\",\n",
    "    \"left_hind_paw_back\",\n",
    "    \"left_hind_paw_front\",\n",
    "    \"right_hind_paw_back\",\n",
    "    \"right_hind_paw_front\",\n",
    "]\n",
    "\n",
    "skeleton = [\n",
    "    [\"tail_base\", \"spine_low\"],\n",
    "    [\"spine_low\", \"spine_mid\"],\n",
    "    [\"spine_mid\", \"spine_high\"],\n",
    "    [\"spine_high\", \"left_ear\"],\n",
    "    [\"spine_high\", \"right_ear\"],\n",
    "    [\"spine_high\", \"forehead\"],\n",
    "    [\"forehead\", \"nose_tip\"],\n",
    "    [\"left_hind_paw_back\", \"left_hind_paw_front\"],\n",
    "    [\"spine_low\", \"left_hind_paw_back\"],\n",
    "    [\"right_hind_paw_back\", \"right_hind_paw_front\"],\n",
    "    [\"spine_low\", \"right_hind_paw_back\"],\n",
    "    [\"spine_high\", \"left_fore_paw\"],\n",
    "    [\"spine_high\", \"right_fore_paw\"],\n",
    "]"
   ]
  },
  {
   "cell_type": "code",
   "execution_count": null,
   "metadata": {},
   "outputs": [],
   "source": []
  },
  {
   "cell_type": "code",
   "execution_count": 20,
   "metadata": {},
   "outputs": [],
   "source": [
    "tsc = TrainingSetCreator(\n",
    "    output_directory=output_directory,\n",
    "    trainingset_name=trainingset_name,\n",
    "    percent_validation = 0.1,  # this is actually fraction --> 0.1 = 10%\n",
    "    keypoints_order = keypoints_order,\n",
    "    padding = 60 # how much padding to place around the \n",
    ")"
   ]
  },
  {
   "cell_type": "code",
   "execution_count": 21,
   "metadata": {},
   "outputs": [
    {
     "data": {
      "application/vnd.jupyter.widget-view+json": {
       "model_id": "2444c13e6f1a40f6b08a2f6881491ee5",
       "version_major": 2,
       "version_minor": 0
      },
      "text/plain": [
       "copying images from 20230903_J01601:   0%|          | 0/6 [00:00<?, ?it/s]"
      ]
     },
     "metadata": {},
     "output_type": "display_data"
    },
    {
     "name": "stdout",
     "output_type": "stream",
     "text": [
      "Loaded annotations\n"
     ]
    },
    {
     "data": {
      "application/vnd.jupyter.widget-view+json": {
       "model_id": "3b47897cf67a4974aa94384552bb76ea",
       "version_major": 2,
       "version_minor": 0
      },
      "text/plain": [
       "bottom:   0%|          | 0/249 [00:00<?, ?it/s]"
      ]
     },
     "metadata": {},
     "output_type": "display_data"
    },
    {
     "name": "stdout",
     "output_type": "stream",
     "text": [
      "Loaded annotations\n"
     ]
    },
    {
     "data": {
      "application/vnd.jupyter.widget-view+json": {
       "model_id": "4423829c39ae4d4bb1be1463ca9f7987",
       "version_major": 2,
       "version_minor": 0
      },
      "text/plain": [
       "side1:   0%|          | 0/250 [00:00<?, ?it/s]"
      ]
     },
     "metadata": {},
     "output_type": "display_data"
    },
    {
     "name": "stdout",
     "output_type": "stream",
     "text": [
      "Could not load annotations file: Error tokenizing data. C error: Expected 45 fields in line 2, saw 46\n",
      "\n",
      "Loaded annotations\n"
     ]
    },
    {
     "data": {
      "application/vnd.jupyter.widget-view+json": {
       "model_id": "902cc2e6055b453786613e135c564249",
       "version_major": 2,
       "version_minor": 0
      },
      "text/plain": [
       "side3:   0%|          | 0/250 [00:00<?, ?it/s]"
      ]
     },
     "metadata": {},
     "output_type": "display_data"
    },
    {
     "name": "stdout",
     "output_type": "stream",
     "text": [
      "Loaded annotations\n"
     ]
    },
    {
     "data": {
      "application/vnd.jupyter.widget-view+json": {
       "model_id": "876cf18edfa740fe853d23a2cb770d8f",
       "version_major": 2,
       "version_minor": 0
      },
      "text/plain": [
       "side4:   0%|          | 0/249 [00:00<?, ?it/s]"
      ]
     },
     "metadata": {},
     "output_type": "display_data"
    },
    {
     "name": "stdout",
     "output_type": "stream",
     "text": [
      "Loaded annotations\n"
     ]
    },
    {
     "data": {
      "application/vnd.jupyter.widget-view+json": {
       "model_id": "218f21c07d9b41d9ba7b264b971ede2d",
       "version_major": 2,
       "version_minor": 0
      },
      "text/plain": [
       "top:   0%|          | 0/176 [00:00<?, ?it/s]"
      ]
     },
     "metadata": {},
     "output_type": "display_data"
    },
    {
     "data": {
      "application/vnd.jupyter.widget-view+json": {
       "model_id": "dbd8fdd9459f42a8ba19dffa1f12e42c",
       "version_major": 2,
       "version_minor": 0
      },
      "text/plain": [
       "copying images from 20230903_J01602:   0%|          | 0/2 [00:00<?, ?it/s]"
      ]
     },
     "metadata": {},
     "output_type": "display_data"
    },
    {
     "name": "stdout",
     "output_type": "stream",
     "text": [
      "Loaded annotations\n"
     ]
    },
    {
     "data": {
      "application/vnd.jupyter.widget-view+json": {
       "model_id": "04e42e4bdcd64280ae46db5150632586",
       "version_major": 2,
       "version_minor": 0
      },
      "text/plain": [
       "bottom:   0%|          | 0/244 [00:00<?, ?it/s]"
      ]
     },
     "metadata": {},
     "output_type": "display_data"
    },
    {
     "name": "stdout",
     "output_type": "stream",
     "text": [
      "Loaded annotations\n"
     ]
    },
    {
     "data": {
      "application/vnd.jupyter.widget-view+json": {
       "model_id": "bf819def2d594c9c98cc5b8f9b7c6b33",
       "version_major": 2,
       "version_minor": 0
      },
      "text/plain": [
       "top:   0%|          | 0/246 [00:00<?, ?it/s]"
      ]
     },
     "metadata": {},
     "output_type": "display_data"
    },
    {
     "data": {
      "application/vnd.jupyter.widget-view+json": {
       "model_id": "8e9d6a1ec5784463ac9c5d65184c0855",
       "version_major": 2,
       "version_minor": 0
      },
      "text/plain": [
       "copying images from 20230903_J01701:   0%|          | 0/1 [00:00<?, ?it/s]"
      ]
     },
     "metadata": {},
     "output_type": "display_data"
    },
    {
     "name": "stdout",
     "output_type": "stream",
     "text": [
      "Loaded annotations\n"
     ]
    },
    {
     "data": {
      "application/vnd.jupyter.widget-view+json": {
       "model_id": "5a0fc102cb654425bb82f10b1ca56a12",
       "version_major": 2,
       "version_minor": 0
      },
      "text/plain": [
       "top:   0%|          | 0/113 [00:00<?, ?it/s]"
      ]
     },
     "metadata": {},
     "output_type": "display_data"
    },
    {
     "data": {
      "application/vnd.jupyter.widget-view+json": {
       "model_id": "2034e300064e43b2954d10c5e30c640a",
       "version_major": 2,
       "version_minor": 0
      },
      "text/plain": [
       "copying images from 20230903_J01702:   0%|          | 0/1 [00:00<?, ?it/s]"
      ]
     },
     "metadata": {},
     "output_type": "display_data"
    },
    {
     "name": "stdout",
     "output_type": "stream",
     "text": [
      "Loaded annotations\n"
     ]
    },
    {
     "data": {
      "application/vnd.jupyter.widget-view+json": {
       "model_id": "db7ff0da885347ebab383c6cd16a755e",
       "version_major": 2,
       "version_minor": 0
      },
      "text/plain": [
       "top:   0%|          | 0/115 [00:00<?, ?it/s]"
      ]
     },
     "metadata": {},
     "output_type": "display_data"
    },
    {
     "data": {
      "application/vnd.jupyter.widget-view+json": {
       "model_id": "be2abfd2646b416cb9ac306046da1e9a",
       "version_major": 2,
       "version_minor": 0
      },
      "text/plain": [
       "copying images from 20230903_J01703:   0%|          | 0/2 [00:00<?, ?it/s]"
      ]
     },
     "metadata": {},
     "output_type": "display_data"
    },
    {
     "name": "stdout",
     "output_type": "stream",
     "text": [
      "Loaded annotations\n"
     ]
    },
    {
     "data": {
      "application/vnd.jupyter.widget-view+json": {
       "model_id": "38cb3cab863f4dfd8ef57cb2628c708f",
       "version_major": 2,
       "version_minor": 0
      },
      "text/plain": [
       "bottom:   0%|          | 0/125 [00:00<?, ?it/s]"
      ]
     },
     "metadata": {},
     "output_type": "display_data"
    },
    {
     "name": "stdout",
     "output_type": "stream",
     "text": [
      "Loaded annotations\n"
     ]
    },
    {
     "data": {
      "application/vnd.jupyter.widget-view+json": {
       "model_id": "194742de0801475ea393ff19a02fb162",
       "version_major": 2,
       "version_minor": 0
      },
      "text/plain": [
       "top:   0%|          | 0/123 [00:00<?, ?it/s]"
      ]
     },
     "metadata": {},
     "output_type": "display_data"
    },
    {
     "data": {
      "application/vnd.jupyter.widget-view+json": {
       "model_id": "fbaf6ef08f6d4e1fa2f49e7972429ee4",
       "version_major": 2,
       "version_minor": 0
      },
      "text/plain": [
       "copying images from 20230904_J01601:   0%|          | 0/2 [00:00<?, ?it/s]"
      ]
     },
     "metadata": {},
     "output_type": "display_data"
    },
    {
     "name": "stdout",
     "output_type": "stream",
     "text": [
      "Loaded annotations\n"
     ]
    },
    {
     "data": {
      "application/vnd.jupyter.widget-view+json": {
       "model_id": "928509cc5087425b82056aadbb5409a9",
       "version_major": 2,
       "version_minor": 0
      },
      "text/plain": [
       "bottom:   0%|          | 0/240 [00:00<?, ?it/s]"
      ]
     },
     "metadata": {},
     "output_type": "display_data"
    },
    {
     "name": "stdout",
     "output_type": "stream",
     "text": [
      "Loaded annotations\n"
     ]
    },
    {
     "data": {
      "application/vnd.jupyter.widget-view+json": {
       "model_id": "b03c371b43e4480583258672776e226d",
       "version_major": 2,
       "version_minor": 0
      },
      "text/plain": [
       "top:   0%|          | 0/259 [00:00<?, ?it/s]"
      ]
     },
     "metadata": {},
     "output_type": "display_data"
    },
    {
     "data": {
      "application/vnd.jupyter.widget-view+json": {
       "model_id": "a6a0ae3b5db64d92a89235ea689bdd6c",
       "version_major": 2,
       "version_minor": 0
      },
      "text/plain": [
       "copying images from 20230904_J01701:   0%|          | 0/2 [00:00<?, ?it/s]"
      ]
     },
     "metadata": {},
     "output_type": "display_data"
    },
    {
     "name": "stdout",
     "output_type": "stream",
     "text": [
      "Loaded annotations\n"
     ]
    },
    {
     "data": {
      "application/vnd.jupyter.widget-view+json": {
       "model_id": "9d7c244524a1499a88d0b8393e9bba80",
       "version_major": 2,
       "version_minor": 0
      },
      "text/plain": [
       "bottom:   0%|          | 0/116 [00:00<?, ?it/s]"
      ]
     },
     "metadata": {},
     "output_type": "display_data"
    }
   ],
   "source": [
    "tsc.run(labelling_sets=dataset_locs)"
   ]
  },
  {
   "cell_type": "code",
   "execution_count": null,
   "metadata": {},
   "outputs": [],
   "source": []
  }
 ],
 "metadata": {
  "language_info": {
   "name": "python"
  }
 },
 "nbformat": 4,
 "nbformat_minor": 2
}
